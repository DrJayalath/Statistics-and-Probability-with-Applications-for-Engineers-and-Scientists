{
 "cells": [
  {
   "cell_type": "markdown",
   "metadata": {},
   "source": [
    "## Importing Libraries"
   ]
  },
  {
   "cell_type": "code",
   "execution_count": 1,
   "metadata": {},
   "outputs": [],
   "source": [
    "import scipy\n",
    "from scipy import stats"
   ]
  },
  {
   "cell_type": "markdown",
   "metadata": {},
   "source": [
    "__Example 7.3.3__ Using Python to find chi-square probabilities. Find the following:\n",
    "\n",
    "(a) Values of ${x_{20,1-α}^2}$ for α = 0.01, 0.025, 0.05.\n",
    "\n",
    "(b) Values of ${x_{20, α}^2}$ for α = 0.01, 0.025, 0.05."
   ]
  },
  {
   "cell_type": "code",
   "execution_count": 2,
   "metadata": {},
   "outputs": [
    {
     "data": {
      "text/plain": [
       "array([ 8.26039833,  9.59077739, 10.85081139])"
      ]
     },
     "execution_count": 2,
     "metadata": {},
     "output_type": "execute_result"
    }
   ],
   "source": [
    "# a) Using lower tail probability\n",
    "# parameters: probabilities, degree of freedom\n",
    "\n",
    "stats.chi2.ppf([0.01, 0.025, 0.05], 20)"
   ]
  },
  {
   "cell_type": "code",
   "execution_count": 3,
   "metadata": {},
   "outputs": [
    {
     "data": {
      "text/plain": [
       "array([37.56623479, 34.1696069 , 31.41043284])"
      ]
     },
     "execution_count": 3,
     "metadata": {},
     "output_type": "execute_result"
    }
   ],
   "source": [
    "# b) Using right tail probability\n",
    "stats.chi2.ppf([1 - 0.01, 1 - 0.025, 1 - 0.05], 20)  # notice the \"1 -\""
   ]
  },
  {
   "cell_type": "markdown",
   "metadata": {},
   "source": [
    "__Example 7.3.4__ Using Python to determine probabilities of the t-distribution. Determine the values of $t_{25,1−α}$\n",
    "such that:\n",
    "(a) P($t_{25}$ < $t_{25,1−α}$) = α for α = 0.01, 0.025, 0.05 (Recall that the t p.d.f. is symmetric around zero).\n",
    "(b) Values of $t_{25}$,α for which P($t_{25}$ > $t_{25,α}$) = α for α = 0.01, 0.025, 0.05"
   ]
  },
  {
   "cell_type": "code",
   "execution_count": 4,
   "metadata": {},
   "outputs": [
    {
     "data": {
      "text/plain": [
       "array([-2.48510718, -2.05953855, -1.70814076])"
      ]
     },
     "execution_count": 4,
     "metadata": {},
     "output_type": "execute_result"
    }
   ],
   "source": [
    "# a) Using lower tail probability\n",
    "# parameters: probabilities, degree of freedom\n",
    "\n",
    "stats.t.ppf([0.01, 0.025, 0.05], 25)"
   ]
  },
  {
   "cell_type": "code",
   "execution_count": 5,
   "metadata": {},
   "outputs": [
    {
     "data": {
      "text/plain": [
       "array([2.48510718, 2.05953855, 1.70814076])"
      ]
     },
     "execution_count": 5,
     "metadata": {},
     "output_type": "execute_result"
    }
   ],
   "source": [
    "# b) Using right tail probability\n",
    "stats.t.ppf([1 - 0.01, 1 - 0.025, 1 - 0.05], 25)  # notice the \"1 -\""
   ]
  },
  {
   "cell_type": "markdown",
   "metadata": {},
   "source": [
    "__Example 7.3.5__ Using Python to find probabilities of F-distribution. Determine the following:\n",
    "\n",
    "(a) $F_{16,24,1−α}$ for α = 0.01, 0.025, 0.05, where $F_{16,24,1−α}$ is such that P($F_{16,24}$ ≤ $F_{16,24,1−α}$) = α.\n",
    "\n",
    "(b) $F_{16,24,β}$ for β = 0.01, 0.025, 0.05, where $F_{16,24,β}$ is such that P($F_{16,24}$ ≥ $F_{16,24,β}$) = β."
   ]
  },
  {
   "cell_type": "code",
   "execution_count": 6,
   "metadata": {},
   "outputs": [
    {
     "data": {
      "text/plain": [
       "array([0.31438525, 0.38092831, 0.44734615])"
      ]
     },
     "execution_count": 6,
     "metadata": {},
     "output_type": "execute_result"
    }
   ],
   "source": [
    "# a) Using lower tail probability\n",
    "# parameters: probabilities, degree of freedom (numerator), degree of freedom (denominator)\n",
    "\n",
    "stats.f.ppf([0.01, 0.025, 0.05], 16, 24)"
   ]
  },
  {
   "cell_type": "code",
   "execution_count": 7,
   "metadata": {},
   "outputs": [
    {
     "data": {
      "text/plain": [
       "array([2.85185176, 2.41054831, 2.08796332])"
      ]
     },
     "execution_count": 7,
     "metadata": {},
     "output_type": "execute_result"
    }
   ],
   "source": [
    "# b) Using right tail probability\n",
    "stats.f.ppf([1 - 0.01, 1 - 0.025, 1 - 0.05], 16, 24)"
   ]
  }
 ],
 "metadata": {
  "kernelspec": {
   "display_name": "Python 3",
   "language": "python",
   "name": "python3"
  },
  "language_info": {
   "codemirror_mode": {
    "name": "ipython",
    "version": 3
   },
   "file_extension": ".py",
   "mimetype": "text/x-python",
   "name": "python",
   "nbconvert_exporter": "python",
   "pygments_lexer": "ipython3",
   "version": "3.7.4"
  }
 },
 "nbformat": 4,
 "nbformat_minor": 4
}
