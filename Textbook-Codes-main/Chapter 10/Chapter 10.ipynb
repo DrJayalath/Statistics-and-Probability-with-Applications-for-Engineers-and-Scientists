{
 "cells": [
  {
   "cell_type": "markdown",
   "metadata": {},
   "source": [
    "## Installing a New Library"
   ]
  },
  {
   "cell_type": "code",
   "execution_count": 5,
   "metadata": {},
   "outputs": [
    {
     "name": "stdout",
     "output_type": "stream",
     "text": [
      "Requirement already satisfied: lifelines in c:\\users\\mistr\\appdata\\local\\packages\\pythonsoftwarefoundation.python.3.8_qbz5n2kfra8p0\\localcache\\local-packages\\python38\\site-packages (0.26.0)\n",
      "Requirement already satisfied: autograd-gamma>=0.3 in c:\\users\\mistr\\appdata\\local\\packages\\pythonsoftwarefoundation.python.3.8_qbz5n2kfra8p0\\localcache\\local-packages\\python38\\site-packages (from lifelines) (0.5.0)\n",
      "Requirement already satisfied: matplotlib>=3.0 in c:\\users\\mistr\\appdata\\local\\packages\\pythonsoftwarefoundation.python.3.8_qbz5n2kfra8p0\\localcache\\local-packages\\python38\\site-packages (from lifelines) (3.2.1)\n",
      "Requirement already satisfied: pandas>=0.23.0 in c:\\users\\mistr\\appdata\\local\\packages\\pythonsoftwarefoundation.python.3.8_qbz5n2kfra8p0\\localcache\\local-packages\\python38\\site-packages (from lifelines) (1.2.4)\n",
      "Requirement already satisfied: formulaic<0.3,>=0.2.2 in c:\\users\\mistr\\appdata\\local\\packages\\pythonsoftwarefoundation.python.3.8_qbz5n2kfra8p0\\localcache\\local-packages\\python38\\site-packages (from lifelines) (0.2.3)\n",
      "Requirement already satisfied: numpy>=1.14.0 in c:\\users\\mistr\\appdata\\local\\packages\\pythonsoftwarefoundation.python.3.8_qbz5n2kfra8p0\\localcache\\local-packages\\python38\\site-packages (from lifelines) (1.18.4)\n",
      "Requirement already satisfied: scipy>=1.2.0 in c:\\users\\mistr\\appdata\\local\\packages\\pythonsoftwarefoundation.python.3.8_qbz5n2kfra8p0\\localcache\\local-packages\\python38\\site-packages (from lifelines) (1.6.3)\n",
      "Requirement already satisfied: autograd>=1.3 in c:\\users\\mistr\\appdata\\local\\packages\\pythonsoftwarefoundation.python.3.8_qbz5n2kfra8p0\\localcache\\local-packages\\python38\\site-packages (from lifelines) (1.3)\n",
      "Requirement already satisfied: future>=0.15.2 in c:\\users\\mistr\\appdata\\local\\packages\\pythonsoftwarefoundation.python.3.8_qbz5n2kfra8p0\\localcache\\local-packages\\python38\\site-packages (from autograd>=1.3->lifelines) (0.18.2)\n",
      "Requirement already satisfied: interface-meta>=1.2 in c:\\users\\mistr\\appdata\\local\\packages\\pythonsoftwarefoundation.python.3.8_qbz5n2kfra8p0\\localcache\\local-packages\\python38\\site-packages (from formulaic<0.3,>=0.2.2->lifelines) (1.2.3)\n",
      "Requirement already satisfied: wrapt in c:\\users\\mistr\\appdata\\local\\packages\\pythonsoftwarefoundation.python.3.8_qbz5n2kfra8p0\\localcache\\local-packages\\python38\\site-packages (from formulaic<0.3,>=0.2.2->lifelines) (1.12.1)\n",
      "Requirement already satisfied: astor in c:\\users\\mistr\\appdata\\local\\packages\\pythonsoftwarefoundation.python.3.8_qbz5n2kfra8p0\\localcache\\local-packages\\python38\\site-packages (from formulaic<0.3,>=0.2.2->lifelines) (0.8.1)\n",
      "Requirement already satisfied: cycler>=0.10 in c:\\users\\mistr\\appdata\\local\\packages\\pythonsoftwarefoundation.python.3.8_qbz5n2kfra8p0\\localcache\\local-packages\\python38\\site-packages (from matplotlib>=3.0->lifelines) (0.10.0)\n",
      "Requirement already satisfied: pyparsing!=2.0.4,!=2.1.2,!=2.1.6,>=2.0.1 in c:\\users\\mistr\\appdata\\local\\packages\\pythonsoftwarefoundation.python.3.8_qbz5n2kfra8p0\\localcache\\local-packages\\python38\\site-packages (from matplotlib>=3.0->lifelines) (2.4.7)\n",
      "Requirement already satisfied: kiwisolver>=1.0.1 in c:\\users\\mistr\\appdata\\local\\packages\\pythonsoftwarefoundation.python.3.8_qbz5n2kfra8p0\\localcache\\local-packages\\python38\\site-packages (from matplotlib>=3.0->lifelines) (1.3.1)\n",
      "Requirement already satisfied: python-dateutil>=2.1 in c:\\users\\mistr\\appdata\\local\\packages\\pythonsoftwarefoundation.python.3.8_qbz5n2kfra8p0\\localcache\\local-packages\\python38\\site-packages (from matplotlib>=3.0->lifelines) (2.8.1)\n",
      "Requirement already satisfied: six in c:\\users\\mistr\\appdata\\local\\packages\\pythonsoftwarefoundation.python.3.8_qbz5n2kfra8p0\\localcache\\local-packages\\python38\\site-packages (from cycler>=0.10->matplotlib>=3.0->lifelines) (1.15.0)\n",
      "Requirement already satisfied: pytz>=2017.3 in c:\\users\\mistr\\appdata\\local\\packages\\pythonsoftwarefoundation.python.3.8_qbz5n2kfra8p0\\localcache\\local-packages\\python38\\site-packages (from pandas>=0.23.0->lifelines) (2021.1)\n"
     ]
    }
   ],
   "source": [
    "! pip install lifelines"
   ]
  },
  {
   "cell_type": "markdown",
   "metadata": {},
   "source": [
    "## Import Libraries"
   ]
  },
  {
   "cell_type": "code",
   "execution_count": 43,
   "metadata": {},
   "outputs": [],
   "source": [
    "import scipy\n",
    "from scipy import stats\n",
    "import numpy as np\n",
    "from lifelines import ExponentialFitter, WeibullFitter, LogNormalFitter"
   ]
  },
  {
   "cell_type": "markdown",
   "metadata": {},
   "source": [
    "__Example 10.1.3__ (Microprocessor failure rate) The time T (in hours) to failure of a microprocessor is modeled by a gamma distribution with parameters γ = 3 and λ = 0.1, so that the shape parameter is 3 and the scale parameter is 10. Using Python, find the reliability and hazard rate function at T = t, where t = 100 (see Figure 10.1.3 for the shape of h(t) when γ = 3, and λ = 1.0 and 0.5 and for γ = 1 and λ = 1.0 and 0.5)."
   ]
  },
  {
   "cell_type": "code",
   "execution_count": 7,
   "metadata": {},
   "outputs": [
    {
     "name": "stdout",
     "output_type": "stream",
     "text": [
      "0.00022699964881242436\n",
      "0.9972306042844884\n"
     ]
    }
   ],
   "source": [
    "# density function value at t = 100\n",
    "f_dens = stats.gamma.pdf(x=100, a=3, scale=10)\n",
    "\n",
    "# cumulative distribution function alue at t = 100\n",
    "f_cdf = stats.gamma.cdf(x=100, a=3, scale=10)\n",
    "\n",
    "print(f_dens)\n",
    "print(f_cdf)"
   ]
  },
  {
   "cell_type": "code",
   "execution_count": 8,
   "metadata": {},
   "outputs": [
    {
     "data": {
      "text/plain": [
       "0.0027693957155116022"
      ]
     },
     "execution_count": 8,
     "metadata": {},
     "output_type": "execute_result"
    }
   ],
   "source": [
    "# computing the reliability at t = 100\n",
    "f_rel = 1 - f_cdf\n",
    "f_rel"
   ]
  },
  {
   "cell_type": "code",
   "execution_count": 9,
   "metadata": {},
   "outputs": [
    {
     "data": {
      "text/plain": [
       "0.08196721311475336"
      ]
     },
     "execution_count": 9,
     "metadata": {},
     "output_type": "execute_result"
    }
   ],
   "source": [
    "# computing the hazard rate function at t = 100\n",
    "f_haz = f_dens / f_rel\n",
    "f_haz"
   ]
  },
  {
   "cell_type": "markdown",
   "metadata": {},
   "source": [
    "__Example 10.1.4__ Suppose that the lifetime T is modeled by the Weibull distribution whose threshold parameter is τ = 0, shape parameter β = 0.5, and the scale parameter α = 40. Find the reliability and hazard rate function at T = t, where t = 100."
   ]
  },
  {
   "cell_type": "code",
   "execution_count": 10,
   "metadata": {},
   "outputs": [
    {
     "data": {
      "text/plain": [
       "0.2057406610838144"
      ]
     },
     "execution_count": 10,
     "metadata": {},
     "output_type": "execute_result"
    }
   ],
   "source": [
    "f_dens = stats.weibull_min.pdf(x=100, c=0.5, scale=40)\n",
    "f_cdf = stats.weibull_min.cdf(x=100, c=0.5, scale=40)\n",
    "\n",
    "# reliabilty at t = 100\n",
    "f_rel = 1 - f_cdf\n",
    "f_rel"
   ]
  },
  {
   "cell_type": "code",
   "execution_count": 11,
   "metadata": {},
   "outputs": [
    {
     "data": {
      "text/plain": [
       "0.00790569415042095"
      ]
     },
     "execution_count": 11,
     "metadata": {},
     "output_type": "execute_result"
    }
   ],
   "source": [
    "# hazard rate function at t = 100\n",
    "f_haz = f_dens / f_rel\n",
    "f_haz"
   ]
  },
  {
   "cell_type": "markdown",
   "metadata": {},
   "source": [
    "__Example 10.1.5__ (Hazard rate for breast cancer patients) Suppose that the lifetime in months of breast cancer patients after a mastectomy, followed by radiation and chemotherapy, is modeled by the lognormal distribution with parameters µ = 3 and σ = 1. Find the reliability and the hazard rate function for these patients at five years (60 months)."
   ]
  },
  {
   "cell_type": "code",
   "execution_count": 12,
   "metadata": {},
   "outputs": [
    {
     "data": {
      "text/plain": [
       "0.13690194401765776"
      ]
     },
     "execution_count": 12,
     "metadata": {},
     "output_type": "execute_result"
    }
   ],
   "source": [
    "f_dens = stats.lognorm.pdf(x=60, s=1, scale=np.exp(3))\n",
    "f_cdf = stats.lognorm.cdf(x=60, s=1, scale=np.exp(3))\n",
    "\n",
    "# reliability at t = 60\n",
    "f_rel = 1 - f_cdf\n",
    "f_rel"
   ]
  },
  {
   "cell_type": "code",
   "execution_count": 13,
   "metadata": {},
   "outputs": [
    {
     "data": {
      "text/plain": [
       "0.026686758862320376"
      ]
     },
     "execution_count": 13,
     "metadata": {},
     "output_type": "execute_result"
    }
   ],
   "source": [
    "# hazard rate function at t = 60\n",
    "f_haz = f_dens / f_rel\n",
    "f_haz"
   ]
  },
  {
   "cell_type": "markdown",
   "metadata": {},
   "source": [
    "__Example 10.2.2__ A random sample of 10 light bulbs is placed on life test and the test concluded after the fourth failure. The recorded times to failure are 836, 974, 1108, and 1236 hours, suppose that it had been decided to complete the life test after 1250 hours and that only the four failures recorded had occurred in that time and others having lifetime greater than 1250 hours. (this sometimes called “right censoring”).\n",
    "\n",
    "Then,\n",
    "\n",
    "$\\bar{µ} = [836 + 974 + 1108 + 1236] \\over 4$ $+$ $6(1250) \\over 4$ $= 2913.5$ hours\n",
    "\n",
    "\n",
    "The approximate confidence limits for the MTBF µ are 1329.3 and 10693.2. Apply the exponential, Weibull, and lognormal models to the data."
   ]
  },
  {
   "cell_type": "code",
   "execution_count": 35,
   "metadata": {},
   "outputs": [],
   "source": [
    "# Failure times including six right censored observations.\n",
    "Time = np.array([836,974,1108,1236,1250,1250,1250,1250,1250,1250])\n",
    "\n",
    "# Identify whether the observation is right censored (=0) or not (=1)\n",
    "Status = np.array([True, True, True, True, False, False, False, False, False, False])"
   ]
  },
  {
   "cell_type": "code",
   "execution_count": 36,
   "metadata": {},
   "outputs": [
    {
     "data": {
      "text/html": [
       "<div>\n",
       "<style scoped>\n",
       "    .dataframe tbody tr th:only-of-type {\n",
       "        vertical-align: middle;\n",
       "    }\n",
       "\n",
       "    .dataframe tbody tr th {\n",
       "        vertical-align: top;\n",
       "    }\n",
       "\n",
       "    .dataframe thead th {\n",
       "        text-align: right;\n",
       "    }\n",
       "</style>\n",
       "<table border=\"1\" class=\"dataframe\">\n",
       "  <tbody>\n",
       "    <tr>\n",
       "      <th>model</th>\n",
       "      <td>lifelines.ExponentialFitter</td>\n",
       "    </tr>\n",
       "    <tr>\n",
       "      <th>number of observations</th>\n",
       "      <td>10</td>\n",
       "    </tr>\n",
       "    <tr>\n",
       "      <th>number of events observed</th>\n",
       "      <td>4</td>\n",
       "    </tr>\n",
       "    <tr>\n",
       "      <th>log-likelihood</th>\n",
       "      <td>-35.9084</td>\n",
       "    </tr>\n",
       "    <tr>\n",
       "      <th>hypothesis</th>\n",
       "      <td>lambda_ != 1</td>\n",
       "    </tr>\n",
       "  </tbody>\n",
       "</table>\n",
       "</div><table border=\"1\" class=\"dataframe\">\n",
       "  <thead>\n",
       "    <tr style=\"text-align: right;\">\n",
       "      <th style=\"min-width: 12px;\"></th>\n",
       "      <th style=\"min-width: 12px;\">coef</th>\n",
       "      <th style=\"min-width: 12px;\">se(coef)</th>\n",
       "      <th style=\"min-width: 12px;\">coef lower 95%</th>\n",
       "      <th style=\"min-width: 12px;\">coef upper 95%</th>\n",
       "      <th style=\"min-width: 12px;\">z</th>\n",
       "      <th style=\"min-width: 12px;\">p</th>\n",
       "      <th style=\"min-width: 12px;\">-log2(p)</th>\n",
       "    </tr>\n",
       "  </thead>\n",
       "  <tbody>\n",
       "    <tr>\n",
       "      <th>lambda_</th>\n",
       "      <td>2913.5000</td>\n",
       "      <td>1456.7500</td>\n",
       "      <td>58.3225</td>\n",
       "      <td>5768.6775</td>\n",
       "      <td>1.9993</td>\n",
       "      <td>0.0456</td>\n",
       "      <td>4.4556</td>\n",
       "    </tr>\n",
       "  </tbody>\n",
       "</table><br><div>\n",
       "<style scoped>\n",
       "    .dataframe tbody tr th:only-of-type {\n",
       "        vertical-align: middle;\n",
       "    }\n",
       "\n",
       "    .dataframe tbody tr th {\n",
       "        vertical-align: top;\n",
       "    }\n",
       "\n",
       "    .dataframe thead th {\n",
       "        text-align: right;\n",
       "    }\n",
       "</style>\n",
       "<table border=\"1\" class=\"dataframe\">\n",
       "  <tbody>\n",
       "    <tr>\n",
       "      <th>AIC</th>\n",
       "      <td>73.8169</td>\n",
       "    </tr>\n",
       "  </tbody>\n",
       "</table>\n",
       "</div>"
      ],
      "text/latex": [
       "\\begin{tabular}{lrrrrrrr}\n",
       "\\toprule\n",
       "{} &      coef &  se(coef) &  coef lower 95\\% &  coef upper 95\\% &      z &      p &  -log2(p) \\\\\n",
       "\\midrule\n",
       "lambda\\_ & 2913.5000 & 1456.7500 &         58.3225 &       5768.6775 & 1.9993 & 0.0456 &    4.4556 \\\\\n",
       "\\bottomrule\n",
       "\\end{tabular}\n"
      ],
      "text/plain": [
       "<lifelines.ExponentialFitter:\"Exponential_estimate\", fitted with 10 total observations, 6 right-censored observations>\n",
       "   number of observations = 10\n",
       "number of events observed = 4\n",
       "           log-likelihood = -35.9084\n",
       "               hypothesis = lambda_ != 1\n",
       "\n",
       "---\n",
       "             coef   se(coef)   coef lower 95%   coef upper 95%      z      p   -log2(p)\n",
       "lambda_ 2913.5000  1456.7500          58.3225        5768.6775 1.9993 0.0456     4.4556\n",
       "---\n",
       "AIC = 73.8169"
      ]
     },
     "metadata": {},
     "output_type": "display_data"
    }
   ],
   "source": [
    "ef = ExponentialFitter()\n",
    "ef_fitted = ef.fit(durations=Time, event_observed=Status)\n",
    "ef_fitted.print_summary(decimals=4)"
   ]
  },
  {
   "cell_type": "code",
   "execution_count": 45,
   "metadata": {},
   "outputs": [
    {
     "data": {
      "text/html": [
       "<div>\n",
       "<style scoped>\n",
       "    .dataframe tbody tr th:only-of-type {\n",
       "        vertical-align: middle;\n",
       "    }\n",
       "\n",
       "    .dataframe tbody tr th {\n",
       "        vertical-align: top;\n",
       "    }\n",
       "\n",
       "    .dataframe thead th {\n",
       "        text-align: right;\n",
       "    }\n",
       "</style>\n",
       "<table border=\"1\" class=\"dataframe\">\n",
       "  <tbody>\n",
       "    <tr>\n",
       "      <th>model</th>\n",
       "      <td>lifelines.WeibullFitter</td>\n",
       "    </tr>\n",
       "    <tr>\n",
       "      <th>number of observations</th>\n",
       "      <td>10</td>\n",
       "    </tr>\n",
       "    <tr>\n",
       "      <th>number of events observed</th>\n",
       "      <td>4</td>\n",
       "    </tr>\n",
       "    <tr>\n",
       "      <th>log-likelihood</th>\n",
       "      <td>-31.9071</td>\n",
       "    </tr>\n",
       "    <tr>\n",
       "      <th>hypothesis</th>\n",
       "      <td>lambda_ != 1, rho_ != 1</td>\n",
       "    </tr>\n",
       "  </tbody>\n",
       "</table>\n",
       "</div><table border=\"1\" class=\"dataframe\">\n",
       "  <thead>\n",
       "    <tr style=\"text-align: right;\">\n",
       "      <th style=\"min-width: 12px;\"></th>\n",
       "      <th style=\"min-width: 12px;\">coef</th>\n",
       "      <th style=\"min-width: 12px;\">se(coef)</th>\n",
       "      <th style=\"min-width: 12px;\">coef lower 95%</th>\n",
       "      <th style=\"min-width: 12px;\">coef upper 95%</th>\n",
       "      <th style=\"min-width: 12px;\">z</th>\n",
       "      <th style=\"min-width: 12px;\">p</th>\n",
       "      <th style=\"min-width: 12px;\">-log2(p)</th>\n",
       "    </tr>\n",
       "  </thead>\n",
       "  <tbody>\n",
       "    <tr>\n",
       "      <th>lambda_</th>\n",
       "      <td>1403.2519</td>\n",
       "      <td>151.7471</td>\n",
       "      <td>1105.8330</td>\n",
       "      <td>1700.6709</td>\n",
       "      <td>9.2407</td>\n",
       "      <td>&lt;5e-05</td>\n",
       "      <td>65.1466</td>\n",
       "    </tr>\n",
       "    <tr>\n",
       "      <th>rho_</th>\n",
       "      <td>5.7468</td>\n",
       "      <td>2.6833</td>\n",
       "      <td>0.4876</td>\n",
       "      <td>11.0059</td>\n",
       "      <td>1.7690</td>\n",
       "      <td>0.0769</td>\n",
       "      <td>3.7010</td>\n",
       "    </tr>\n",
       "  </tbody>\n",
       "</table><br><div>\n",
       "<style scoped>\n",
       "    .dataframe tbody tr th:only-of-type {\n",
       "        vertical-align: middle;\n",
       "    }\n",
       "\n",
       "    .dataframe tbody tr th {\n",
       "        vertical-align: top;\n",
       "    }\n",
       "\n",
       "    .dataframe thead th {\n",
       "        text-align: right;\n",
       "    }\n",
       "</style>\n",
       "<table border=\"1\" class=\"dataframe\">\n",
       "  <tbody>\n",
       "    <tr>\n",
       "      <th>AIC</th>\n",
       "      <td>67.8142</td>\n",
       "    </tr>\n",
       "  </tbody>\n",
       "</table>\n",
       "</div>"
      ],
      "text/latex": [
       "\\begin{tabular}{lrrrrrrr}\n",
       "\\toprule\n",
       "{} &      coef &  se(coef) &  coef lower 95\\% &  coef upper 95\\% &      z &      p &  -log2(p) \\\\\n",
       "\\midrule\n",
       "lambda\\_ & 1403.2519 &  151.7471 &       1105.8330 &       1700.6709 & 9.2407 & 0.0000 &   65.1466 \\\\\n",
       "rho\\_    &    5.7468 &    2.6833 &          0.4876 &         11.0059 & 1.7690 & 0.0769 &    3.7010 \\\\\n",
       "\\bottomrule\n",
       "\\end{tabular}\n"
      ],
      "text/plain": [
       "<lifelines.WeibullFitter:\"Weibull_estimate\", fitted with 10 total observations, 6 right-censored observations>\n",
       "   number of observations = 10\n",
       "number of events observed = 4\n",
       "           log-likelihood = -31.9071\n",
       "               hypothesis = lambda_ != 1, rho_ != 1\n",
       "\n",
       "---\n",
       "             coef   se(coef)   coef lower 95%   coef upper 95%      z      p   -log2(p)\n",
       "lambda_ 1403.2519   151.7471        1105.8330        1700.6709 9.2407 <5e-05    65.1466\n",
       "rho_       5.7468     2.6833           0.4876          11.0059 1.7690 0.0769     3.7010\n",
       "---\n",
       "AIC = 67.8142"
      ]
     },
     "metadata": {},
     "output_type": "display_data"
    }
   ],
   "source": [
    "wf = WeibullFitter()\n",
    "\n",
    "wf_fitted = wf.fit(durations=Time, event_observed=Status)\n",
    "wf_fitted.print_summary(decimals=4)"
   ]
  },
  {
   "cell_type": "code",
   "execution_count": 46,
   "metadata": {},
   "outputs": [
    {
     "data": {
      "text/html": [
       "<div>\n",
       "<style scoped>\n",
       "    .dataframe tbody tr th:only-of-type {\n",
       "        vertical-align: middle;\n",
       "    }\n",
       "\n",
       "    .dataframe tbody tr th {\n",
       "        vertical-align: top;\n",
       "    }\n",
       "\n",
       "    .dataframe thead th {\n",
       "        text-align: right;\n",
       "    }\n",
       "</style>\n",
       "<table border=\"1\" class=\"dataframe\">\n",
       "  <tbody>\n",
       "    <tr>\n",
       "      <th>model</th>\n",
       "      <td>lifelines.LogNormalFitter</td>\n",
       "    </tr>\n",
       "    <tr>\n",
       "      <th>number of observations</th>\n",
       "      <td>10</td>\n",
       "    </tr>\n",
       "    <tr>\n",
       "      <th>number of events observed</th>\n",
       "      <td>4</td>\n",
       "    </tr>\n",
       "    <tr>\n",
       "      <th>log-likelihood</th>\n",
       "      <td>-31.7442</td>\n",
       "    </tr>\n",
       "    <tr>\n",
       "      <th>hypothesis</th>\n",
       "      <td>mu_ != 0, sigma_ != 1</td>\n",
       "    </tr>\n",
       "  </tbody>\n",
       "</table>\n",
       "</div><table border=\"1\" class=\"dataframe\">\n",
       "  <thead>\n",
       "    <tr style=\"text-align: right;\">\n",
       "      <th style=\"min-width: 12px;\"></th>\n",
       "      <th style=\"min-width: 12px;\">coef</th>\n",
       "      <th style=\"min-width: 12px;\">se(coef)</th>\n",
       "      <th style=\"min-width: 12px;\">coef lower 95%</th>\n",
       "      <th style=\"min-width: 12px;\">coef upper 95%</th>\n",
       "      <th style=\"min-width: 12px;\">z</th>\n",
       "      <th style=\"min-width: 12px;\">p</th>\n",
       "      <th style=\"min-width: 12px;\">-log2(p)</th>\n",
       "    </tr>\n",
       "  </thead>\n",
       "  <tbody>\n",
       "    <tr>\n",
       "      <th>mu_</th>\n",
       "      <td>7.1971</td>\n",
       "      <td>0.1203</td>\n",
       "      <td>6.9614</td>\n",
       "      <td>7.4329</td>\n",
       "      <td>59.8311</td>\n",
       "      <td>&lt;5e-05</td>\n",
       "      <td>inf</td>\n",
       "    </tr>\n",
       "    <tr>\n",
       "      <th>sigma_</th>\n",
       "      <td>0.2696</td>\n",
       "      <td>0.1086</td>\n",
       "      <td>0.0566</td>\n",
       "      <td>0.4825</td>\n",
       "      <td>-6.7231</td>\n",
       "      <td>&lt;5e-05</td>\n",
       "      <td>35.7102</td>\n",
       "    </tr>\n",
       "  </tbody>\n",
       "</table><br><div>\n",
       "<style scoped>\n",
       "    .dataframe tbody tr th:only-of-type {\n",
       "        vertical-align: middle;\n",
       "    }\n",
       "\n",
       "    .dataframe tbody tr th {\n",
       "        vertical-align: top;\n",
       "    }\n",
       "\n",
       "    .dataframe thead th {\n",
       "        text-align: right;\n",
       "    }\n",
       "</style>\n",
       "<table border=\"1\" class=\"dataframe\">\n",
       "  <tbody>\n",
       "    <tr>\n",
       "      <th>AIC</th>\n",
       "      <td>67.4884</td>\n",
       "    </tr>\n",
       "  </tbody>\n",
       "</table>\n",
       "</div>"
      ],
      "text/latex": [
       "\\begin{tabular}{lrrrrrrr}\n",
       "\\toprule\n",
       "{} &   coef &  se(coef) &  coef lower 95\\% &  coef upper 95\\% &       z &      p &  -log2(p) \\\\\n",
       "\\midrule\n",
       "mu\\_    & 7.1971 &    0.1203 &          6.9614 &          7.4329 & 59.8311 & 0.0000 &       inf \\\\\n",
       "sigma\\_ & 0.2696 &    0.1086 &          0.0566 &          0.4825 & -6.7231 & 0.0000 &   35.7102 \\\\\n",
       "\\bottomrule\n",
       "\\end{tabular}\n"
      ],
      "text/plain": [
       "<lifelines.LogNormalFitter:\"LogNormal_estimate\", fitted with 10 total observations, 6 right-censored observations>\n",
       "   number of observations = 10\n",
       "number of events observed = 4\n",
       "           log-likelihood = -31.7442\n",
       "               hypothesis = mu_ != 0, sigma_ != 1\n",
       "\n",
       "---\n",
       "         coef   se(coef)   coef lower 95%   coef upper 95%       z      p   -log2(p)\n",
       "mu_    7.1971     0.1203           6.9614           7.4329 59.8311 <5e-05        inf\n",
       "sigma_ 0.2696     0.1086           0.0566           0.4825 -6.7231 <5e-05    35.7102\n",
       "---\n",
       "AIC = 67.4884"
      ]
     },
     "metadata": {},
     "output_type": "display_data"
    }
   ],
   "source": [
    "lf = LogNormalFitter()\n",
    "\n",
    "lf_fitted = lf.fit(durations=Time, event_observed=Status)\n",
    "lf_fitted.print_summary(decimals=4)"
   ]
  }
 ],
 "metadata": {
  "kernelspec": {
   "display_name": "Python 3",
   "language": "python",
   "name": "python3"
  },
  "language_info": {
   "codemirror_mode": {
    "name": "ipython",
    "version": 3
   },
   "file_extension": ".py",
   "mimetype": "text/x-python",
   "name": "python",
   "nbconvert_exporter": "python",
   "pygments_lexer": "ipython3",
   "version": "3.7.4"
  }
 },
 "nbformat": 4,
 "nbformat_minor": 4
}
