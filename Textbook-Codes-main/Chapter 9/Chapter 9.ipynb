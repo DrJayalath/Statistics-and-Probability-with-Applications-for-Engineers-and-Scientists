{
 "cells": [
  {
   "cell_type": "markdown",
   "metadata": {},
   "source": [
    "## Importing Libraries"
   ]
  },
  {
   "cell_type": "code",
   "execution_count": 112,
   "metadata": {},
   "outputs": [],
   "source": [
    "import scipy\n",
    "from scipy import stats\n",
    "import numpy as np\n",
    "import pandas as pd\n",
    "import matplotlib.pyplot as plt\n",
    "from statsmodels.stats import power\n",
    "from statsmodels.stats.weightstats import ztest\n",
    "from statsmodels.stats.proportion import proportions_ztest, proportion_confint, binom_test, proportions_chisquare, proportion_effectsize"
   ]
  },
  {
   "cell_type": "markdown",
   "metadata": {},
   "source": [
    "__Example 9.3.4__ The workers union of a large corporation in a big metropolitan city demands that each worker should be compensated for travel time to work since it takes, on the average, at least 75 minutes for each worker to travel to his/her job. However, the director of human resources believes otherwise and he took a random sample of 16 workers and found that the average traveling time for these workers is 68 minutes. Assume that from past experience the director knows that travel times are normally distributed (in applications this condition must be verified) with a standard deviation σ= 10 minutes. Do these data provide sufficient evidence to support the directors’s claim? Use α = 0.05. Find the p-value. Find the size of the probability of the type II error β if the true travel time is µ = 72 minutes."
   ]
  },
  {
   "cell_type": "code",
   "execution_count": 2,
   "metadata": {},
   "outputs": [
    {
     "name": "stdout",
     "output_type": "stream",
     "text": [
      "Z-score: -2.8\n",
      "p-value: 0.002555130330427932\n",
      "Alternative Hypothesis: true mean is less than 75\n"
     ]
    }
   ],
   "source": [
    "\"\"\"\n",
    "We can make our own function to output the z-score and \n",
    "the corresponding p-value.\n",
    "\"\"\"\n",
    "\n",
    "def one_samp_z_test_from_stats(samp_mean, sigma, n, alternative, mu, conf_level):\n",
    "    z_score =  (samp_mean - mu) / (sigma / np.sqrt(n))\n",
    "    p_value = stats.norm.cdf(z_score)\n",
    "    if alternative == 'two-sided':\n",
    "        p_value *= 2\n",
    "    \n",
    "    print(\"Z-score:\", str(z_score))\n",
    "    print(\"p-value:\", p_value)\n",
    "\n",
    "    if p_value < 1 - conf_level:\n",
    "        if alternative != 'two-sided':\n",
    "            print(\"Alternative Hypothesis: true mean is \" + alternative + \" than \" + str(mu))\n",
    "        else:\n",
    "            print(\"Alternative Hypothesis: true mean is not equal to \" + str(mu))\n",
    "    else:\n",
    "        print(\"Not enough evidence to reject the null hypothesis at significance level:\", str(round(1 - conf_level, 3)))\n",
    "    \n",
    "one_samp_z_test_from_stats(samp_mean=68, sigma=10, n=16, alternative=\"less\", mu=75, conf_level=0.95)"
   ]
  },
  {
   "cell_type": "markdown",
   "metadata": {},
   "source": [
    "To determine the type II error, first we calculate the power at µ = 72. The following R code can be used to complete __Example 9.3.4__. Note that the value of effect size d is calculated as d = ($µ_1 − µ_0$)/σ = (72 − 75)/10 = −0.3."
   ]
  },
  {
   "cell_type": "code",
   "execution_count": 3,
   "metadata": {},
   "outputs": [
    {
     "name": "stdout",
     "output_type": "stream",
     "text": [
      "power: 0.3282127684237871\n",
      "Type II error: 0.6717872315762129\n"
     ]
    }
   ],
   "source": [
    "pwr = power.normal_power(effect_size=-0.3, nobs=16, alpha=0.05, alternative=\"smaller\")\n",
    "print(\"power:\", pwr)\n",
    "print(\"Type II error:\", 1 - pwr)"
   ]
  },
  {
   "cell_type": "markdown",
   "metadata": {},
   "source": [
    "__Example 9.4.3__ Four determinations of copper in a certain solution yielded an average $\\bar{X} = 8.30%$ with\n",
    "S = 0.03%. Suppose that we want to test the hypothesis\n",
    "\n",
    "$H_0 : µ = 8.32$ versus $H_1 : µ < 8.32$\n",
    "\n",
    "at the 5% level of significance. If µ is the mean of the population of such determinations, find the probability of type II error β at $µ_1 = 8.31$."
   ]
  },
  {
   "cell_type": "code",
   "execution_count": 4,
   "metadata": {},
   "outputs": [
    {
     "name": "stdout",
     "output_type": "stream",
     "text": [
      "t-score: -1.333333333333305\n",
      "p-value: 0.13731249854302804\n",
      "Not enough evidence to reject the null hypothesis at significance level: 0.05\n"
     ]
    }
   ],
   "source": [
    "\"\"\"\n",
    "We can make our own function to output the t-score and \n",
    "the corresponding p-value.\n",
    "\"\"\"\n",
    "\n",
    "def one_samp_t_test_from_stats(samp_mean, sigma, n, alternative, mu, conf_level):\n",
    "    t_score =  (samp_mean - mu) / (sigma / np.sqrt(n)) \n",
    "    p_value = stats.t.cdf(t_score, df= n - 1)\n",
    "    if alternative == 'two-sided':\n",
    "        p_value *= 2\n",
    "    \n",
    "    print(\"t-score:\", str(t_score))\n",
    "    print(\"p-value:\", p_value)\n",
    "    \n",
    "    if p_value < 1 - conf_level:\n",
    "        if alternative != 'two-sided':\n",
    "            print(\"Alternative Hypothesis: true mean is \" + alternative + \" than \" + str(mu))\n",
    "        else:\n",
    "            print(\"Alternative Hypothesis: true mean is not equal to \" + str(mu))\n",
    "    else:\n",
    "        print(\"Not enough evidence to reject the null hypothesis at significance level:\", str(round(1 - conf_level, 3)))\n",
    "    \n",
    "    \n",
    "one_samp_t_test_from_stats(samp_mean=8.3, sigma=0.03, n=4, alternative=\"less\", mu=8.32, conf_level=0.95)"
   ]
  },
  {
   "cell_type": "code",
   "execution_count": 5,
   "metadata": {},
   "outputs": [
    {
     "name": "stdout",
     "output_type": "stream",
     "text": [
      "power: 0.13242636633404747\n",
      "Type II error: 0.8675736336659525\n"
     ]
    }
   ],
   "source": [
    "pwr = power.ttest_power(effect_size=-1/3, nobs=4, alpha=0.05, alternative=\"smaller\")\n",
    "print(\"power:\", pwr)\n",
    "print(\"Type II error:\", 1 - pwr)"
   ]
  },
  {
   "cell_type": "markdown",
   "metadata": {},
   "source": [
    "__Example 9.6.2__ (Testing two Population means are equal) Suppose two machines, say $M_1$ and $M_2$, are packaging 6-oz cans of talcum powder. It is known from the past behavior of the machines that the weights of their respective fillings are normal with standard deviations of 0.04 oz and 0.05 oz, respectively. Suppose 100 cans filled by each machine are emptied, the contents are carefully weighed, and the sample averages are $\\bar{X}_1 = 6.11$ oz and $\\bar{X}_2 = 6.14$ oz. We wish to test at the α = 0.01 level of significance the hypothesis\n",
    "\n",
    "$H_0 : µ_1 = µ_2$ versus $H_1 : µ_1 \\neq µ2$,\n",
    "\n",
    "where $µ_1$ and $µ_2$ are means of populations of weights of fillings produced by machines $M_1$ and $M_2$, respectively."
   ]
  },
  {
   "cell_type": "code",
   "execution_count": 6,
   "metadata": {},
   "outputs": [
    {
     "name": "stdout",
     "output_type": "stream",
     "text": [
      "Z-score: -4.685212856658082\n",
      "p-value: 2.7966913074628245e-06\n",
      "99.0% Confidence Interval: (-0.0464933550450431, -0.01350664495495562)\n"
     ]
    }
   ],
   "source": [
    "\"\"\"\n",
    "We can make our own function to perform a two-sample\n",
    "z test, taking sample and population statistics.\n",
    "\"\"\"\n",
    "\n",
    "def two_sample_z_test_from_stats(mean1, std1, n1, mean2, std2, n2, alternative, mu, conf_level):\n",
    "    z_score = (mean1 - mean2) / (np.sqrt((std1**2/n1) + (std2**2/n2)))\n",
    "    p_value = stats.norm.cdf(z_score)\n",
    "    if alternative == 'two-sided':\n",
    "        p_value *= 2\n",
    "    \n",
    "    print(\"Z-score:\", z_score)\n",
    "    print(\"p-value:\", p_value)\n",
    "    \n",
    "    # since we are told that population variances are equal for both type A and type B... \n",
    "    pooled_var = ((n1 - 1)*(std1**2) + (n2 - 1)*(std2**2))/(n1 + n2 - 2)\n",
    "\n",
    "    # calculating standard error\n",
    "    pooled_standard_error = np.sqrt((pooled_var / n1) + (pooled_var / n2))\n",
    "\n",
    "    # calculating t-interval\n",
    "    interval = stats.norm.interval(alpha=conf_level, loc=mean1-mean2, scale=pooled_standard_error)\n",
    "\n",
    "    print(str(conf_level * 100) + \"% Confidence Interval:\", interval)\n",
    "\n",
    "two_sample_z_test_from_stats(mean1=6.11, std1=0.04, n1=100, mean2=6.14, std2=0.05, n2=100, alternative=\"two-sided\", mu=0, conf_level=0.99)"
   ]
  },
  {
   "cell_type": "markdown",
   "metadata": {},
   "source": [
    "__Example 9.7.2__ (Summary data on dimension of rotor shafts) Rotor shafts of the same diameter are being manufactured at two different facilities of a manufacturing company. A random sample of size $n_1 = 60$\n",
    "rotor shafts from one facility produced a mean diameter of 0.536 inches with a standard deviation of 0.007\n",
    "inches. Another sample of size $n_2 = 60$ from the second facility produced a mean diameter of 0.540 inches\n",
    "with a standard deviation of 0.01 inches. Assume that the two population variances are equal.\n",
    "\n",
    "(a) Test the null hypothesis $H_0 : µ_1 − µ_2 = 0$ versus $H_1 : µ_1 − µ_2 \\neq 0$ at the $α = 0.05$ level of significance.\n",
    "\n",
    "(b) Find the p-value for the test in (a).\n",
    "\n",
    "(c) Find the size of the type II error β and the power of the test if the true value of $µ_1 − µ_2 = 0.002$."
   ]
  },
  {
   "cell_type": "code",
   "execution_count": 7,
   "metadata": {
    "scrolled": true
   },
   "outputs": [
    {
     "name": "stdout",
     "output_type": "stream",
     "text": [
      "Ttest_indResult(statistic=-2.5382972678814117, pvalue=0.012441782847817124)\n",
      "(-0.007124422805631176, -0.0008755771943688303)\n"
     ]
    }
   ],
   "source": [
    "def two_sample_t_test_from_stats(mean1, std1, nobs1, mean2, std2, nobs2, mu, var_equal, conf_level):\n",
    "    print(stats.ttest_ind_from_stats(mean1=mean1, std1=std1, nobs1=nobs1, mean2=mean2, std2=std2, nobs2=nobs2, equal_var=var_equal))\n",
    "    \n",
    "    mean_difference = mean1 - mean2\n",
    "    \n",
    "    # using unpooled method to calculate standard error\n",
    "    unpooled_se = np.sqrt(std1**2 / nobs1 + std2**2 / nobs2)\n",
    "\n",
    "    # calculating degrees of freedom\n",
    "    C = (std1**2/nobs1) / ((std1**2/nobs1) + (std2**2/nobs2))\n",
    "    df = ((nobs1 - 1) * (nobs2 - 1)) / ((nobs2 - 1) * C**2 + (1 - C)**2 * (nobs1 - 1))\n",
    "\n",
    "    # calculating the interval\n",
    "    print(stats.t.interval(alpha=conf_level, df=df, loc=mean_difference, scale=unpooled_se))\n",
    "\n",
    "two_sample_t_test_from_stats(mean1=0.536, std1=0.007, nobs1=60, mean2=0.540, std2=0.01, nobs2=60, mu=0, var_equal=True, conf_level=0.95)"
   ]
  },
  {
   "cell_type": "markdown",
   "metadata": {},
   "source": [
    "To find the type II error, we first calculate the power when $µ_1−µ_2 = −0.002$. Note that $d = (µ_1 − µ_2)/S_p$ = −0.002/0.00863 = −1/4.315, where 0.00863 is the pooled standard deviation from the above calculations."
   ]
  },
  {
   "cell_type": "code",
   "execution_count": 8,
   "metadata": {},
   "outputs": [
    {
     "name": "stdout",
     "output_type": "stream",
     "text": [
      "Power: 0.24231424735079732\n"
     ]
    }
   ],
   "source": [
    "pwr = power.tt_ind_solve_power(effect_size=-1/4.315, nobs1=60, alpha=0.05, alternative=\"two-sided\")\n",
    "print(\"Power:\", pwr)"
   ]
  },
  {
   "cell_type": "markdown",
   "metadata": {},
   "source": [
    "__Example 9.7.3__ (Testing equality of two population means when two population variances are unknown and unequal) A new weight control company (A) claims that persons who use their program regularly for a certain period of time lose on average the same amount of weight as those who use the program of another well-established company (B) for the same period of time. Two random samples, the person who used company A’s program and the second person who used company B’s program, yielded the following summary statistics:\n",
    "\n",
    "$n_1 = 12, \\bar{X}_1 = 20, S_1 = 5, n_2 = 10$, and $\\bar{X}_2 = 22, S_2 = 3$\n",
    "\n",
    "(The weight lost is measured in pounds). Test at the α = 0.01 level of significance whether or not the data provide sufficient evidence to support the claim of company A. Find the p-value of the test. We assume that the two population variances are not equal."
   ]
  },
  {
   "cell_type": "code",
   "execution_count": 9,
   "metadata": {},
   "outputs": [
    {
     "data": {
      "text/plain": [
       "Ttest_indResult(statistic=-1.1579214666396975, pvalue=0.26173186379891816)"
      ]
     },
     "execution_count": 9,
     "metadata": {},
     "output_type": "execute_result"
    }
   ],
   "source": [
    "stats.ttest_ind_from_stats(mean1=20, std1=5, nobs1=12, mean2=22, std2=3, nobs2=10, equal_var=False)"
   ]
  },
  {
   "cell_type": "markdown",
   "metadata": {},
   "source": [
    "To find the type II error when $µ_1 − µ_2 = 1$ we can use the following manual Python code. To complete __Example 9.7.3__ we use the given information."
   ]
  },
  {
   "cell_type": "code",
   "execution_count": 10,
   "metadata": {},
   "outputs": [
    {
     "data": {
      "text/plain": [
       "0.9148621589792222"
      ]
     },
     "execution_count": 10,
     "metadata": {},
     "output_type": "execute_result"
    }
   ],
   "source": [
    "# We assign numerical values for the pre-defined variables.\n",
    "alpha = 0.05\n",
    "df = 18\n",
    "diff = -1\n",
    "sd1 = 5\n",
    "n1 = 12\n",
    "sd2 = 3\n",
    "n2 = 10 \n",
    "ncp = diff / np.sqrt((sd1**2 / n1) + (sd2**2 / n2))\n",
    "\n",
    "# probabilty of type II error\n",
    "stats.nct.cdf(stats.t.ppf(1-alpha/2,df),df, nc=ncp)-stats.nct.cdf(stats.t.ppf(alpha/2,df),df, nc=ncp)"
   ]
  },
  {
   "cell_type": "markdown",
   "metadata": {},
   "source": [
    "__Example 9.7.4__ (Testing equivalence of two methods using paired t-test) Bennett and Franklin (1954) quote the following example of the use of the t test for a paired comparison problem. Table 9.1 gives the\n",
    "results of experiments on 21 different samples of iron ore using a standard dichromate titrimetric method and a new spectrophotometric method for the determination of the iron ore content of the 21 samples of\n",
    "iron ore. We wish to test µ = 0 (at the 5% level of significance) against $µ \\neq 0$, where µ is the mean of the population of differences. From the data of Table 9.1, we find that $\\bar{X} = 0.0133$, $S = 0.0500$ and hence the test statistic has the value\n",
    "\n",
    "$(0.0133)/(0.05/√21) = 1.22$"
   ]
  },
  {
   "cell_type": "markdown",
   "metadata": {},
   "source": [
    "Test $µ = E(X_i) = E(Y_{i1} − Y_{i2}) = 0$ (at the 5% level of significance) against $µ \\neq 0$, where $µ$ is the mean of the population of differences. Find the p-value, the probability of type II error β, and the power of the test at $µ_1 = 0.03$."
   ]
  },
  {
   "cell_type": "code",
   "execution_count": 11,
   "metadata": {},
   "outputs": [],
   "source": [
    "Standard = np.array([28.22,33.95,38.25,42.52,37.62,36.84,36.12,35.11,34.45,52.83,57.9,51.52,49.49,52.2,\n",
    "54.04,56,57.62,34.3,41.73,44.44,46.48])\n",
    "\n",
    "New = np.array([28.27,33.99,38.2,42.42,37.64,36.85,36.21,35.2,34.4,52.86,57.88, 51.52,49.52,52.19,53.99,\n",
    "56.04,57.65,34.39,41.78,44.44,46.47])"
   ]
  },
  {
   "cell_type": "code",
   "execution_count": 12,
   "metadata": {},
   "outputs": [
    {
     "data": {
      "text/plain": [
       "Ttest_relResult(statistic=1.2212063189740454, pvalue=0.2362090820677354)"
      ]
     },
     "execution_count": 12,
     "metadata": {},
     "output_type": "execute_result"
    }
   ],
   "source": [
    "stats.ttest_rel(New, Standard)"
   ]
  },
  {
   "cell_type": "markdown",
   "metadata": {},
   "source": [
    "To find the type II error, first we calculate the power when $µ_1 = 0.03$."
   ]
  },
  {
   "cell_type": "code",
   "execution_count": 221,
   "metadata": {},
   "outputs": [
    {
     "name": "stdout",
     "output_type": "stream",
     "text": [
      "Power: 0.7434235658767\n"
     ]
    }
   ],
   "source": [
    "pwr = power.TTestPower.power(self=None, alpha=0.05, nobs=21, effect_size=0.03 / np.std(New - Standard, ddof=1), alternative='two-sided')\n",
    "print(\"Power:\", pwr)"
   ]
  },
  {
   "cell_type": "markdown",
   "metadata": {},
   "source": [
    "__Example 9.8.2__ A civil engineer checked 50 concrete slabs for breaking strength. These concrete slabs were prepared by using a special mix. The engineer found that only 28 slabs either met or exceeded the desired standard of level of breaking strength. Does this summary statistic provide sufficient evidence at the 1% level of significance that less than 60% of the slabs would meet the desired standard? Find β, the\n",
    "probability of the type II error at $p_1 = 0.58$."
   ]
  },
  {
   "cell_type": "code",
   "execution_count": 96,
   "metadata": {},
   "outputs": [
    {
     "name": "stdout",
     "output_type": "stream",
     "text": [
      "Statistic: 0.33333333333333337\n",
      "p-value: 0.28185143082538655\n"
     ]
    }
   ],
   "source": [
    "stat, pval, _ = proportions_chisquare(count=28, nobs=50, value=0.6)\n",
    "print(\"Statistic:\", stat)\n",
    "print(\"p-value:\", pval / 2)  # DIVIDE BY 2 SINCE WE ARE INTERESTED IN A ONE-SIDED INTERVAL"
   ]
  },
  {
   "cell_type": "markdown",
   "metadata": {},
   "source": [
    "##### Exact Binomial Test"
   ]
  },
  {
   "cell_type": "code",
   "execution_count": 99,
   "metadata": {},
   "outputs": [
    {
     "name": "stdout",
     "output_type": "stream",
     "text": [
      "p-value: 0.3298616843127678\n"
     ]
    }
   ],
   "source": [
    "p_val = binom_test(count=28, nobs=50, prop=0.6, alternative='smaller')\n",
    "print(\"p-value:\", p_val)"
   ]
  },
  {
   "cell_type": "markdown",
   "metadata": {},
   "source": [
    "To find the type II error, first we calculate the power when p = 0.58. The following Python code can be used\n",
    "to complete the Example 9.8.2."
   ]
  },
  {
   "cell_type": "code",
   "execution_count": 110,
   "metadata": {},
   "outputs": [
    {
     "name": "stdout",
     "output_type": "stream",
     "text": [
      "Power: 0.020303624272327653\n"
     ]
    }
   ],
   "source": [
    "effect_size = proportion_effectsize(prop1=0.56, prop2=0.6)\n",
    "print(\"Power:\", power.TTestPower.power(self=None, effect_size=effect_size/2, nobs=50, alpha=0.01, alternative=\"smaller\"))"
   ]
  },
  {
   "cell_type": "markdown",
   "metadata": {},
   "source": [
    "__Example 9.8.3__ (Testing equivalence of two population proportions) A computer-assembly company gets\n",
    "all its chips from two suppliers. The company knows from experience in the past both suppliers have\n",
    "supplied a certain proportion of defective chips. The company wants to test alternative hypotheses: (a)\n",
    "supplier I supplies a smaller proportions of defective chips, (b) supplier I supplies a higher proportions\n",
    "of defective chips, or (c) the suppliers do not supply the same proportions of defective chips. To achieve\n",
    "this goal, the company took two random samples, one from the chips supplied by supplier I and the\n",
    "other from those supplied by supplier II. It was found that in the first sample of 500 chips, 12 were\n",
    "defective, and in the second sample of 600 chips, 20 were defective. Test each of the three hypotheses that\n",
    "$H_0 : p_1 − p_2 = 0$ versus $H_1 : p_1 − p_2 \\neq 0$ at the α = 0.05 level of significance. Find the p-value for each\n",
    "test."
   ]
  },
  {
   "attachments": {
    "image.png": {
     "image/png": "[encoded data removed]"
    }
   },
   "cell_type": "markdown",
   "metadata": {},
   "source": [
    "__Pooled Proportion__\n",
    "![image.png](attachment:image.png)"
   ]
  },
  {
   "cell_type": "code",
   "execution_count": 121,
   "metadata": {},
   "outputs": [
    {
     "name": "stdout",
     "output_type": "stream",
     "text": [
      "p-value: 0.35907205345169535\n"
     ]
    }
   ],
   "source": [
    "\"\"\"\n",
    "We can make our own python function to compute a two sample proportion test (based on normal approximation)\n",
    "\"\"\"\n",
    "\n",
    "def two_sample_prop_test(x1, n1, x2, n2, alternative='two-sided', alpha=0.05):\n",
    "    p_0 = (x1 + x2) / (n1 + n2)\n",
    "    p1 = x1/n1\n",
    "    p2 = x2/n2\n",
    "    \n",
    "    z = (p1 - p2) / (np.sqrt(p_0 * (1 - p_0) * (1/n1 + 1/n2)))  # pooled proportion z score\n",
    "    pval = stats.norm.cdf(z)\n",
    "    \n",
    "    if alternative == 'two-sided':\n",
    "        pval *= 2\n",
    "    \n",
    "    print(\"p-value:\", pval)\n",
    "    \n",
    "two_sample_prop_test(12, 500, 20, 600)"
   ]
  },
  {
   "cell_type": "markdown",
   "metadata": {},
   "source": [
    "__Example 9.9.2__ (Workers productivity data using R) A production manager of a manufacturing company claims that over the last 10 years, worker productivity in the company did not vary more than 2%. To verify the manager’s claim, the CEO of the company collected the information on worker’s yearly productivity over the last 10-year period, as follows:\n",
    "\n",
    "`103 99 109 96 94 106 94 95 99 108`\n",
    "\n",
    "The manager wishes to test, at the 5% level of significance, the hypothesis\n",
    "$H_0 : σ = σ_0 = 2$ versus $H_1 : σ = σ_1 > 2$"
   ]
  },
  {
   "cell_type": "code",
   "execution_count": 198,
   "metadata": {},
   "outputs": [
    {
     "name": "stdout",
     "output_type": "stream",
     "text": [
      "Test Statisitic: 76.02499999999999\n",
      "p-value: 0.0\n",
      "Reject the null hypothesis, accept alternative hypothesis: true variance is greater than 4\n"
     ]
    }
   ],
   "source": [
    "\"\"\"\n",
    "We can make our own chi-squared test for variance\n",
    "\"\"\"\n",
    "\n",
    "def chi_square_var(x, sigma, alternative, conf_level):\n",
    "    N = len(x)\n",
    "    s = np.std(x, ddof=1)\n",
    "    T_statistic = (N - 1) * (s / sigma)**2\n",
    "    print(\"Test Statisitic:\", T_statistic)\n",
    "    \n",
    "    if alternative == 'smaller':\n",
    "        if T_statistic < stats.chi2.ppf(1 - conf_level, df=N - 1):\n",
    "            print(\"p-value:\", stats.chi2.cdf(T_statistic, df=N - 1))\n",
    "            print(\"Reject the null hypothesis, accept alternative hypothesis: true variance is smaller than\", str(sigma**2))\n",
    "    elif alternative == 'greater':\n",
    "        if T_statistic > stats.chi2.ppf(conf_level, df=N - 1):\n",
    "            print(\"p-value:\", stats.chi2.cdf(-T_statistic, df=N - 1)) \n",
    "            print(\"Reject the null hypothesis, accept alternative hypothesis: true variance is greater than\", str(sigma**2))\n",
    "    else:\n",
    "        if T_statistic < stats.chi2.ppf(conf_level / 2, df=N-1) or T_statistic < stats.chi2.ppf(1 - conf_level / 2, df=N-1):\n",
    "            print(\"Reject the null hypothesis, accept alternative hypothesis: true variance is not equal to\", str(sigma**2))\n",
    "            \n",
    "    \n",
    "x = np.array([103,99,109,96,94,106,94,95,99,108])\n",
    "chi_square_var(x=x, sigma=2, alternative='greater', conf_level=0.95)"
   ]
  },
  {
   "cell_type": "markdown",
   "metadata": {},
   "source": [
    "__Example 9.10.2__ (Using Python) The CEO of the company in Example (9.9.2) now decides to compare his company’s (say company 1) productivity with that of another company (say company 2). The productivity of the companies over the same period for the workers yielded the sample observations:\n",
    "\n",
    "Productivity 1: `103 99 109 96 94 106 94 95 99 108`\n",
    "\n",
    "Productivity 2: `95 94 105 98 105 95 104 100 105 101`\n",
    "\n",
    "Test at the 1% level of significance the hypothesis\n",
    "$H_0 : σ^2_1 = σ^2_2$ versus $H_1 : σ^2_1 \\neq σ^2_2$"
   ]
  },
  {
   "cell_type": "code",
   "execution_count": 220,
   "metadata": {},
   "outputs": [
    {
     "name": "stdout",
     "output_type": "stream",
     "text": [
      "Result was not significant at α = 0.01 so we CANNOT reject the null hypothesis.\n",
      "F: 1.6745594713656389\n",
      "Numerator Degrees of Freedom: 9\n",
      "Denominator Degrees of Freedom: 9\n",
      "p-value: 0.45434102681523425\n"
     ]
    }
   ],
   "source": [
    "\"\"\"\n",
    "We can make our own function to perform an F-test in python\n",
    "\"\"\"\n",
    "\n",
    "def f_test_for_pop_vars(x1, x2, significance_level, alternative='two-sided'): \n",
    "    # F test statistic:\n",
    "    F = np.var(x1, ddof=1) / np.var(x2, ddof=1)\n",
    "    \n",
    "    # degrees of freedoms for x1 and x2\n",
    "    df1 = len(x1) - 1\n",
    "    df2 = len(x2) - 1\n",
    "    \n",
    "    # p-value:\n",
    "    p_val = scipy.stats.f.sf(F, df1, df2)\n",
    "    if alternative == 'two-sided':\n",
    "        p_val *= 2\n",
    "    \n",
    "    # result\n",
    "    if p_val < significance_level:\n",
    "        print(\"Reject null hypothesis, accept alternative hypothesis: true ratio of variances is not equal to 1.\")\n",
    "    else:\n",
    "        print(\"Result was not significant at α =\", str(significance_level), \"so we CANNOT reject the null hypothesis.\")\n",
    "    \n",
    "    # print, or output statements\n",
    "    print(\"F:\", F)\n",
    "    print(\"Numerator Degrees of Freedom:\", df1)\n",
    "    print(\"Denominator Degrees of Freedom:\", df2)\n",
    "    print(\"p-value:\", p_val)\n",
    "    \n",
    "    \n",
    "# let's test our function out!\n",
    "x1 = np.array([103, 99, 109, 96, 94, 106, 94, 95, 99, 108])\n",
    "x2 = np.array([95, 94, 105, 98, 105, 95, 104, 100, 105, 101])\n",
    "\n",
    "f_test_for_pop_vars(x1, x2, significance_level=0.01)"
   ]
  }
 ],
 "metadata": {
  "kernelspec": {
   "display_name": "Python 3",
   "language": "python",
   "name": "python3"
  },
  "language_info": {
   "codemirror_mode": {
    "name": "ipython",
    "version": 3
   },
   "file_extension": ".py",
   "mimetype": "text/x-python",
   "name": "python",
   "nbconvert_exporter": "python",
   "pygments_lexer": "ipython3",
   "version": "3.7.4"
  }
 },
 "nbformat": 4,
 "nbformat_minor": 4
}
