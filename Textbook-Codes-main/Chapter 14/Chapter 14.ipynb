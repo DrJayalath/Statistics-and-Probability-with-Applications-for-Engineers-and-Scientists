{
 "cells": [
  {
   "cell_type": "markdown",
   "metadata": {},
   "source": [
    "## Import Libraries"
   ]
  },
  {
   "cell_type": "code",
   "execution_count": 26,
   "metadata": {},
   "outputs": [],
   "source": [
    "import numpy as np\n",
    "import scipy\n",
    "from scipy import stats\n",
    "from statsmodels.stats.descriptivestats import sign_test"
   ]
  },
  {
   "cell_type": "markdown",
   "metadata": {},
   "source": [
    "__Example 14.2.2__ (Student’s test scores data) A chemistry professor from a large university wants to study the final paper scores obtained by the students in a general chemistry class. The following data gives the scores of 12 randomly selected students from that class:\n",
    "\n",
    "\n",
    "`86 86 76 83 83 81 76 87 90 89 76 79`\n",
    "\n",
    "Test at the 5% level of significance the professor’s hypothesis that the median score for the sampled population is 87."
   ]
  },
  {
   "cell_type": "code",
   "execution_count": 21,
   "metadata": {},
   "outputs": [
    {
     "name": "stdout",
     "output_type": "stream",
     "text": [
      "p-value: 0.06542968749999997\n",
      "Not enough evidence to reject the null hypothesis, since p-value is greater than: 0.05\n"
     ]
    }
   ],
   "source": [
    "\"\"\"\n",
    "We can make our own simple function to perform a simple one-sample sign test\n",
    "\"\"\"\n",
    "def one_samp_sign_test(x, mu, significance_level, alternative='two-sided'):\n",
    "    _, p_val = sign_test(samp=x, mu0=mu)  # this performs a two-sided test by default\n",
    "    \n",
    "    if alternative != 'two-sided':\n",
    "        p_val = p_val / 2\n",
    "    \n",
    "    print(\"p-value:\", p_val)\n",
    "    \n",
    "    if p_val < significance_level:  # reject null hypothesis\n",
    "        print(\"Reject the null hypothesis, accept the alternative hypothesis.\")\n",
    "    else:\n",
    "        print(\"Not enough evidence to reject the null hypothesis, since p-value is greater than:\", str(significance_level))\n",
    "    \n",
    "\n",
    "one_samp_sign_test(x=[86,86,76,83,83,81,76,87,90,89,76,79], mu=87, significance_level=0.05, alternative='two-sided')"
   ]
  },
  {
   "cell_type": "markdown",
   "metadata": {},
   "source": [
    "### NOTE\n",
    "\n",
    "##### if you are only interested in the p-value for a one-sample sign test, simply run:"
   ]
  },
  {
   "cell_type": "code",
   "execution_count": 36,
   "metadata": {},
   "outputs": [
    {
     "name": "stdout",
     "output_type": "stream",
     "text": [
      "0.06542968749999997\n"
     ]
    }
   ],
   "source": [
    "_, p_val = sign_test(samp=[86,86,76,83,83,81,76,87,90,89,76,79], mu0=87)  # this performs a two-sided test by default\n",
    "print(p_val)"
   ]
  },
  {
   "cell_type": "markdown",
   "metadata": {},
   "source": [
    "__Example 14.2.3 (Bond strength of materials)__ An article in Annual Reviews of Material Research 2001 (p. 291) presents bond strengths for various energetic materials (explosives, propellants, and pyrotechnics). The bond strengths M for 15 such materials are shown below:\n",
    "\n",
    "`323 312 300 284 283 261 207 183 180 179 174 167 167 157 120`"
   ]
  },
  {
   "cell_type": "code",
   "execution_count": 39,
   "metadata": {},
   "outputs": [
    {
     "data": {
      "text/plain": [
       "WilcoxonResult(statistic=55.0, pvalue=0.7981534966621379)"
      ]
     },
     "execution_count": 39,
     "metadata": {},
     "output_type": "execute_result"
    }
   ],
   "source": [
    "stats.wilcoxon(x=np.array([323,312,300,284,283,261,207,183,180,179,174,167,167,157,120]) - 220, alternative='two-sided', correction=True)"
   ]
  },
  {
   "cell_type": "markdown",
   "metadata": {},
   "source": [
    "__Example 14.3.1__ (Plutonium readings) Two chemists, A and B, make 14 and 16 determinations of plutonium, respectively, with the results shown in Table 14.3.1 (see Text). Numbers in parentheses are the rank of the observation in the combined sample. The problem is to determine whether the two chemists are doing equivalent work, or are obtaining significantly different results."
   ]
  },
  {
   "cell_type": "code",
   "execution_count": 45,
   "metadata": {},
   "outputs": [
    {
     "name": "stdout",
     "output_type": "stream",
     "text": [
      "MannwhitneyuResult(statistic=113.0, pvalue=0.9834169441859234)\n"
     ]
    }
   ],
   "source": [
    "x = [263.36,254.68,248.64,272.68,261.1,287.33,268.41,287.26,276.32,243.64,256.42,282.65,250.97,284.27]\n",
    "y = [286.53,254.54,284.55,253.75,283.85,252.01,245.26,275.08,286.3,272.52,282.9,266.08,267.53,252.05,253.82,269.81]\n",
    "\n",
    "print(stats.mannwhitneyu(x=y, y=x, alternative='two-sided'))  # note the switched orders"
   ]
  }
 ],
 "metadata": {
  "kernelspec": {
   "display_name": "Python 3",
   "language": "python",
   "name": "python3"
  },
  "language_info": {
   "codemirror_mode": {
    "name": "ipython",
    "version": 3
   },
   "file_extension": ".py",
   "mimetype": "text/x-python",
   "name": "python",
   "nbconvert_exporter": "python",
   "pygments_lexer": "ipython3",
   "version": "3.7.4"
  }
 },
 "nbformat": 4,
 "nbformat_minor": 4
}
