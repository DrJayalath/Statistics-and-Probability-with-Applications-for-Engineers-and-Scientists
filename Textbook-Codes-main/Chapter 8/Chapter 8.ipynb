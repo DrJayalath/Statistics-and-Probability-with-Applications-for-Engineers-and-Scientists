{
 "cells": [
  {
   "cell_type": "markdown",
   "metadata": {},
   "source": [
    "## Importing Libraries"
   ]
  },
  {
   "cell_type": "code",
   "execution_count": 120,
   "metadata": {},
   "outputs": [],
   "source": [
    "import scipy\n",
    "from scipy import stats\n",
    "import math\n",
    "import numpy as np"
   ]
  },
  {
   "cell_type": "markdown",
   "metadata": {},
   "source": [
    "__Example 8.3.4__ (Confidence interval for µ when using a large sample) A manufacturing engineer decided\n",
    "to check the efficiency of a new technician hired by the company. She records the time taken by the\n",
    "technician to complete 100 randomly selected jobs and found that in this sample of 100, the average time\n",
    "taken per job was 10 hours with a standard deviation of two hours. Find 95% lower and upper one-sided\n",
    "confidence intervals for µ, the average time taken by a technician to complete one job."
   ]
  },
  {
   "cell_type": "code",
   "execution_count": 121,
   "metadata": {},
   "outputs": [
    {
     "data": {
      "text/plain": [
       "(9.671029274609705, 10.328970725390295)"
      ]
     },
     "execution_count": 121,
     "metadata": {},
     "output_type": "execute_result"
    }
   ],
   "source": [
    "# Normal interval\n",
    "# parameters: alpha = confidence percentage, loc = sample mean, scale = standard error \n",
    "stats.norm.interval(alpha=0.9, loc=10, scale=2/10)"
   ]
  },
  {
   "cell_type": "markdown",
   "metadata": {},
   "source": [
    "### Alternative: making our own function to compute z-intervals (one or two-tailed) "
   ]
  },
  {
   "cell_type": "code",
   "execution_count": 122,
   "metadata": {},
   "outputs": [],
   "source": [
    "def confidence_interval(conf_level, x_bar, stdev, n, alternative='two-sided', mu=0):\n",
    "    alpha = 1 - conf_level / 100\n",
    "    \n",
    "    if alternative == 'two-sided':\n",
    "        half_alpha = alpha / 2\n",
    "        z_val = (x_bar - mu) / (stdev / math.sqrt(n))\n",
    "        z_score = abs(stats.norm.ppf(half_alpha))\n",
    "        interval = (x_bar - z_score * stdev / math.sqrt(n), x_bar + z_score * stdev / math.sqrt(n))\n",
    "        \n",
    "        print(\"Z:\", z_val)\n",
    "        print(\"Z-score:\", str(z_score))\n",
    "        print(\"Interval:\", interval)\n",
    "    \n",
    "    elif alternative == 'left-tail':\n",
    "        z_val = (x_bar - mu) / (stdev / math.sqrt(n))\n",
    "        z_score = stats.norm.ppf(alpha)\n",
    "        interval = (-math.inf, x_bar + z_score * stdev / math.sqrt(n))\n",
    "        \n",
    "        print(\"Z:\", z_val)\n",
    "        print(\"Z-score:\", str(z_score))\n",
    "        print(\"Interval:\", interval)\n",
    "        \n",
    "    elif alternative == 'right-tail':\n",
    "        z_val = (x_bar - mu) / (stdev / math.sqrt(n))\n",
    "        z_score = stats.norm.ppf(alpha)\n",
    "        interval = (x_bar + z_score * stdev / math.sqrt(n), math.inf)\n",
    "        \n",
    "        print(\"Z:\", z_val)\n",
    "        print(\"Z-score:\", str(z_score))\n",
    "        print(\"Interval:\", interval)"
   ]
  },
  {
   "cell_type": "code",
   "execution_count": 123,
   "metadata": {},
   "outputs": [
    {
     "name": "stdout",
     "output_type": "stream",
     "text": [
      "Z: 50.0\n",
      "Z-score: 1.6448536269514729\n",
      "Interval: (9.671029274609705, 10.328970725390295)\n"
     ]
    }
   ],
   "source": [
    "# computing a TWO-SIDED confidence z-interval \n",
    "confidence_interval(90, 10, 2, 100)"
   ]
  },
  {
   "cell_type": "code",
   "execution_count": 124,
   "metadata": {},
   "outputs": [
    {
     "name": "stdout",
     "output_type": "stream",
     "text": [
      "Z: 50.0\n",
      "Z-score: -1.6448536269514722\n",
      "Interval: (-inf, 9.671029274609706)\n"
     ]
    }
   ],
   "source": [
    "# computing a LEFT-TAILED confidence z-interval\n",
    "confidence_interval(95, 10, 2, 100, 'left-tail')"
   ]
  },
  {
   "cell_type": "code",
   "execution_count": 125,
   "metadata": {},
   "outputs": [
    {
     "name": "stdout",
     "output_type": "stream",
     "text": [
      "Z: 50.0\n",
      "Z-score: 1.6448536269514722\n",
      "Interval: (10.328970725390294, inf)\n"
     ]
    }
   ],
   "source": [
    "# computing a RIGHT-TAILED confidence z-interval\n",
    "confidence_interval(5, 10, 2, 100, 'right-tail')"
   ]
  },
  {
   "cell_type": "markdown",
   "metadata": {},
   "source": [
    "__Example 8.3.4__ Consider the following data from a population with an unknown mean µ and unknown\n",
    "standard deviation σ:\n",
    "`\n",
    "23 25 20 16 19 35 42 25 28 29 36 26 27 35 41 30\n",
    "20 24 29 26 37 38 24 26 34 36 38 39 32 33 25 30\n",
    "`\n",
    "\n",
    "Use Python to find a 95% confidence interval for the mean µ."
   ]
  },
  {
   "cell_type": "code",
   "execution_count": 126,
   "metadata": {},
   "outputs": [],
   "source": [
    "x = [23,25,20,16,19,35,42,25,28,29,36,26,27,35,41,30,20,24,29,26,37,38,24,26,34,36,38,39,32,33,25,30]"
   ]
  },
  {
   "cell_type": "code",
   "execution_count": 127,
   "metadata": {},
   "outputs": [
    {
     "data": {
      "text/plain": [
       "(27.296334222765356, 31.953665777234644)"
      ]
     },
     "execution_count": 127,
     "metadata": {},
     "output_type": "execute_result"
    }
   ],
   "source": [
    "stats.norm.interval(alpha=0.95, loc=np.mean(x), scale=np.std(x)/np.sqrt(len(x)))"
   ]
  },
  {
   "cell_type": "code",
   "execution_count": 128,
   "metadata": {},
   "outputs": [
    {
     "name": "stdout",
     "output_type": "stream",
     "text": [
      "Z: 24.934421079074585\n",
      "Z-score: 1.959963984540054\n",
      "Interval: (27.296334222765356, 31.953665777234644)\n"
     ]
    }
   ],
   "source": [
    "confidence_interval(95, np.mean(x), np.std(x), len(x))  # the length (len) of x will give us the sample size"
   ]
  },
  {
   "cell_type": "code",
   "execution_count": 129,
   "metadata": {},
   "outputs": [
    {
     "data": {
      "text/plain": [
       "(27.201820185322063, 32.04817981467794)"
      ]
     },
     "execution_count": 129,
     "metadata": {},
     "output_type": "execute_result"
    }
   ],
   "source": [
    "# t interval \n",
    "# parameters: alpha = confidence percentage, df = degrees of freedom (n - 1), loc = sample mean, scale = standard error\n",
    "\n",
    "stats.t.interval(alpha=0.95, df=len(x) - 1, loc=np.mean(x), scale=np.std(x)/np.sqrt(len(x)))"
   ]
  },
  {
   "cell_type": "markdown",
   "metadata": {},
   "source": [
    "__Example 8.4.2__ (Constructing a confidence interval for $µ_1 − µ_2$ with unknown but equal variances) A sample of $n_1 = 5$ light bulbs of type A gives an average length of life of $\\bar{X_1} = 1000$ hours with a standard deviation of $S_1 = 28$ hours. A sample of $n_2 = 7$ light bulbs of type B, gives $\\bar{X_2} = 980$ hours, and $S_2 = 32$ hours. We assume that the processes are normally distributed with variances $σ_1^2$ and $σ_2^2$ that are equal, that is, $σ_1^2 = σ_2^2 = σ^2$. Find a 99% confidence interval for $µ_1 − µ_2 = µ_A − µ_B$."
   ]
  },
  {
   "cell_type": "code",
   "execution_count": 130,
   "metadata": {},
   "outputs": [
    {
     "data": {
      "text/plain": [
       "Ttest_indResult(statistic=1.1212421273061306, pvalue=0.28838768610572835)"
      ]
     },
     "execution_count": 130,
     "metadata": {},
     "output_type": "execute_result"
    }
   ],
   "source": [
    "stats.ttest_ind_from_stats(mean1=1000, mean2=980, std1=28, std2=32, nobs1=5, nobs2=7, equal_var=True)"
   ]
  },
  {
   "attachments": {
    "image.png": {
     "image/png": "[encoded data removed]"
    }
   },
   "cell_type": "markdown",
   "metadata": {},
   "source": [
    "**Pooled Standard Error**\n",
    "![image.png](attachment:image.png)"
   ]
  },
  {
   "cell_type": "code",
   "execution_count": 131,
   "metadata": {},
   "outputs": [
    {
     "data": {
      "text/plain": [
       "(-36.53145899521733, 76.53145899521732)"
      ]
     },
     "execution_count": 131,
     "metadata": {},
     "output_type": "execute_result"
    }
   ],
   "source": [
    "mean_difference = 1000 - 980\n",
    "n1 = 5\n",
    "s1 = 28\n",
    "n2 = 7\n",
    "s2 = 32\n",
    "# since we are told that population variances are equal for both type A and type B... \n",
    "pooled_var = ((n1 - 1)*(s1**2) + (n2 - 1)*(s2**2))/(n1 + n2 - 2)\n",
    "\n",
    "# calculating standard error\n",
    "pooled_standard_error = np.sqrt((pooled_var / n1) + (pooled_var / n2))\n",
    "\n",
    "# calculating t-interval\n",
    "stats.t.interval(alpha=0.99, df=n1 + n2 - 2, loc=mean_difference, scale=pooled_standard_error)"
   ]
  },
  {
   "cell_type": "markdown",
   "metadata": {},
   "source": [
    "__Example 8.4.4__ (Yarn breaking strength test) A sample of 61 strands of type I yarn, when subjected to\n",
    "breaking-strength tests, yielded a sample average of $\\bar{X}_I = 1400$ psi with a sample standard deviation of $S_I = 120$ psi. A sample of 121 strands of type M yarn was also subjected to the same breaking strength tests and yielded a sample average of $\\bar{X}_M = 1250$ psi and a sample standard deviation of $S_M = 80$ psi. Find a 95% confidence interval for $µ_I − µ_M$, assuming normality of breaking strengths of both types of yarn. Assume that $σ^2_I$ $\\neq$ $σ^2_M$."
   ]
  },
  {
   "cell_type": "code",
   "execution_count": 132,
   "metadata": {},
   "outputs": [
    {
     "data": {
      "text/plain": [
       "Ttest_indResult(statistic=8.824168564953624, pvalue=9.692812594551684e-14)"
      ]
     },
     "execution_count": 132,
     "metadata": {},
     "output_type": "execute_result"
    }
   ],
   "source": [
    "stats.ttest_ind_from_stats(mean1=1400, mean2=1250, std1=120, std2=80, nobs1=61, nobs2=121, equal_var=False)"
   ]
  },
  {
   "attachments": {
    "image.png": {
     "image/png": "[encoded data removed]"
    }
   },
   "cell_type": "markdown",
   "metadata": {},
   "source": [
    "Since we are assuming __normality and unequal variances__, we will calcualte the degrees of freedom using:\n",
    "![image.png](attachment:image.png)"
   ]
  },
  {
   "cell_type": "code",
   "execution_count": 133,
   "metadata": {},
   "outputs": [
    {
     "data": {
      "text/plain": [
       "(116.21689721366184, 183.78310278633816)"
      ]
     },
     "execution_count": 133,
     "metadata": {},
     "output_type": "execute_result"
    }
   ],
   "source": [
    "# variables needed:\n",
    "mean_difference = 1400 - 1250\n",
    "n1 = 61\n",
    "s1 = 120\n",
    "n2 = 121\n",
    "s2 = 80\n",
    "\n",
    "# using unpooled method to calculate standard error\n",
    "unpooled_se = np.sqrt(s1**2 / n1 + s2**2 / n2)\n",
    "\n",
    "# calculating degrees of freedom\n",
    "C = (s1**2/n1) / ((s1**2/n1) + (s2**2/n2))\n",
    "df = ((n1 - 1) * (n2 - 1)) / ((n2 - 1) * C**2 + (1 - C)**2 * (n1 - 1))\n",
    "\n",
    "# calculating the interval\n",
    "stats.t.interval(alpha=0.95, df=df, loc=mean_difference, scale=unpooled_se)"
   ]
  },
  {
   "cell_type": "markdown",
   "metadata": {},
   "source": [
    "__Example 8.5.3__ (Confidence interval for $σ^2$ and σ) In a certain car-manufacturing company the time\n",
    "taken by a worker to finish a paint job on a car is normally distributed with mean µ and variance $σ^ 2$. Fifteen randomly selected car paint jobs are assigned to that worker and the time taken by the worker to finish each job is jotted down. These data yielded a sample standard deviation of S = 2.5 hours. Find a 95% two-sided confidence interval and one-sided lower and upper confidence intervals for the population variance $σ^2$ and the standard deviation σ."
   ]
  },
  {
   "cell_type": "code",
   "execution_count": 134,
   "metadata": {},
   "outputs": [
    {
     "name": "stdout",
     "output_type": "stream",
     "text": [
      "[3.3500583503256784, 15.545258091834775]\n",
      "[1.83031646 3.94274753]\n",
      "3.6943538523861594\n",
      "13.316832871780731\n",
      "1.9220701996509284\n",
      "3.6492235984906065\n"
     ]
    }
   ],
   "source": [
    "# Assign variables\n",
    "alpha = 0.05\n",
    "S = 2.5 \n",
    "n = 15\n",
    "\n",
    "# To obtain the two-sided confidence interval for σ^2\n",
    "CI = [(n - 1)* S**2 / stats.chi2.ppf(1 - alpha / 2, n - 1), (n - 1)* S**2 / stats.chi2.ppf(alpha / 2,n - 1)]\n",
    "print(CI)\n",
    "\n",
    "# To obtain the two-sided confidence interval for σ\n",
    "print(np.sqrt(CI))\n",
    "\n",
    "# To obtain the one-sided confidence interval for σ^2\n",
    "Lower_limit = (n - 1) * S**2 / stats.chi2.ppf(1 - alpha, n - 1)\n",
    "print(Lower_limit)\n",
    "\n",
    "Upper_limit = (n - 1) * S**2 / stats.chi2.ppf(alpha, n - 1)\n",
    "print(Upper_limit) \n",
    "\n",
    "# To obtain the one-sided confidence interval for σ\n",
    "print(np.sqrt(Lower_limit))\n",
    "print(np.sqrt(Upper_limit))"
   ]
  },
  {
   "cell_type": "markdown",
   "metadata": {},
   "source": [
    "__Example 8.6.1__ (Confidence intervals for the ratio of two population variances) Two random samples of sizes 13 and 16 are selected from a group of patients with hypertension. The patients in the two samples are independently treated with drugs A and B. After a full course of treatments, these patients are evaluated. The data collected at the time of evaluation yielded sample standard deviations $S_A = S_1 = 6.5$ mmHg and $S_B = S_2 = 7.5$ mmHg. Assuming that the two sets of data come from independent normal populations with variances $σ^2_1$ and $σ^2_2$, respectively, determine a 95% two-sided confidence interval for $σ^2_1 / σ^2_2$. Also determine the one-sided confidence intervals for $σ^2_1 / σ^2_2$ and $σ_1/σ_2$."
   ]
  },
  {
   "cell_type": "code",
   "execution_count": 135,
   "metadata": {},
   "outputs": [
    {
     "data": {
      "text/plain": [
       "[0.25347267326232165, 2.3864310536746562]"
      ]
     },
     "execution_count": 135,
     "metadata": {},
     "output_type": "execute_result"
    }
   ],
   "source": [
    "# Assign variables\n",
    "alpha = 0.05\n",
    "n1 = 13\n",
    "n2 = 16\n",
    "S1 = 6.5\n",
    "S2 = 7.5\n",
    "\n",
    "CI = [(S1**2 / S2**2) * (1 / stats.f.ppf(1 - alpha / 2,n1 - 1, n2 - 1)), (S1**2 / S2**2) * (1 / stats.f.ppf(alpha / 2,n1 - 1, n2 - 1))]\n",
    "CI"
   ]
  },
  {
   "cell_type": "code",
   "execution_count": 136,
   "metadata": {},
   "outputs": [
    {
     "data": {
      "text/plain": [
       "array([0.5034607 , 1.54480777])"
      ]
     },
     "execution_count": 136,
     "metadata": {},
     "output_type": "execute_result"
    }
   ],
   "source": [
    "# To obtain the two-sided confidence interval for σ_1 / σ_2\n",
    "np.sqrt(CI)"
   ]
  },
  {
   "cell_type": "markdown",
   "metadata": {},
   "source": [
    "__Example 8.7.1__ (Large sample confidence interval for binomial parameter p) A random sample of 400\n",
    "computer chips is taken from a large lot of chips and 50 of them are found to be defective. Find a 95% confidence interval for p the proportion of defective chips contained in the lot."
   ]
  },
  {
   "cell_type": "code",
   "execution_count": 137,
   "metadata": {},
   "outputs": [
    {
     "name": "stdout",
     "output_type": "stream",
     "text": [
      "[0.09259014198914858, 0.15740985801085144]\n"
     ]
    }
   ],
   "source": [
    "# Assign variables\n",
    "alpha = 0.05\n",
    "T = 50\n",
    "n = 400\n",
    "phat = T / n\n",
    "\n",
    "# To obtain the two-sided confidence interval for p\n",
    "print([phat - stats.norm.ppf(1 - alpha / 2) * np.sqrt(phat * (1 - phat) / n), phat - stats.norm.ppf(alpha / 2) * np.sqrt(phat * (1 - phat) / n)])"
   ]
  },
  {
   "cell_type": "markdown",
   "metadata": {},
   "source": [
    "__Example 8.7.2__ (A large sample confidence interval for the difference of two binomial parameters ($p_1−p_2$)). Two companies A and B claim that a new type of light bulb has a lifetime of more that 5000 hours. In a random sample of 400 bulbs manufactured by company A, 60 bulbs burned out before the claimed lifetime and in another random sample of 500 bulbs manufactured by company B, 100 bulbs burned out before the claimed lifetime. Find a point estimate and a 95% confidence interval for the true value of the difference ($p_1−p_2$), where $p_1$ and $p_2$ are the proportion of the bulbs manufactured by company A and company B, respectively, that burn out before the claimed lifetime of 5000 hours."
   ]
  },
  {
   "attachments": {
    "image.png": {
     "image/png": "[encoded data removed]"
    }
   },
   "cell_type": "markdown",
   "metadata": {},
   "source": [
    "![image.png](attachment:image.png)"
   ]
  },
  {
   "cell_type": "code",
   "execution_count": 138,
   "metadata": {},
   "outputs": [],
   "source": [
    "def two_proprotions_confint(success_a, size_a, success_b, size_b, alpha=0.05):\n",
    "    prop_a = success_a / size_a\n",
    "    prop_b = success_b / size_b\n",
    "\n",
    "    # z critical value\n",
    "    confidence = 1 - alpha\n",
    "    z_score = abs(stats.norm.ppf(confidence + alpha / 2))\n",
    "\n",
    "    se = np.sqrt((prop_a * (1 - prop_a)) / size_a  +  (prop_b * (1 - prop_b)) / size_b)\n",
    "    \n",
    "    prop_diff = prop_b - prop_a\n",
    "    confint = prop_diff + np.array([-1, 1]) * z_score * se\n",
    "    return confint"
   ]
  },
  {
   "cell_type": "code",
   "execution_count": 139,
   "metadata": {},
   "outputs": [
    {
     "data": {
      "text/plain": [
       "array([0.00046484, 0.09953516])"
      ]
     },
     "execution_count": 139,
     "metadata": {},
     "output_type": "execute_result"
    }
   ],
   "source": [
    "two_proprotions_confint(success_a=60, size_a=400, success_b=100, size_b=500, alpha=0.05)"
   ]
  }
 ],
 "metadata": {
  "kernelspec": {
   "display_name": "Python 3",
   "language": "python",
   "name": "python3"
  },
  "language_info": {
   "codemirror_mode": {
    "name": "ipython",
    "version": 3
   },
   "file_extension": ".py",
   "mimetype": "text/x-python",
   "name": "python",
   "nbconvert_exporter": "python",
   "pygments_lexer": "ipython3",
   "version": "3.7.4"
  }
 },
 "nbformat": 4,
 "nbformat_minor": 4
}
