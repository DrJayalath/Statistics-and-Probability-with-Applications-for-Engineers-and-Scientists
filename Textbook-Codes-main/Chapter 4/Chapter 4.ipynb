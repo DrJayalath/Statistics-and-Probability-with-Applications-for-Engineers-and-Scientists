{
 "cells": [
  {
   "cell_type": "markdown",
   "metadata": {},
   "source": [
    "## Importing Libraries"
   ]
  },
  {
   "cell_type": "code",
   "execution_count": 19,
   "metadata": {},
   "outputs": [],
   "source": [
    "import numpy as np\n",
    "import scipy\n",
    "from scipy import stats"
   ]
  },
  {
   "cell_type": "markdown",
   "metadata": {},
   "source": [
    "__Example 4.4.1__ (Applying concept of hypergeometric distribution) Let us consider the probability of\n",
    "getting x spades in a hand of bridge. In the framework above, A denotes a spade and A¯ denotes any card\n",
    "other than a spade. Hence N = 52, N1 = 13, N2 = N − N1 = 39. If X denotes the number of spades\n",
    "in a hand of n = 13 cards, X has the sample space max[0, 13 − (52 − 13)] ≤ x ≤ min[13, 13], that is,\n",
    "0 ≤ x ≤ 13, and X has probability function given by:\n",
    "\n",
    "\\begin{equation}\n",
    "h(x) =  \\frac{{13 \\choose x}{39 \\choose 13-x}}{52 \\choose 13}\n",
    "\\end{equation}"
   ]
  },
  {
   "cell_type": "code",
   "execution_count": 20,
   "metadata": {},
   "outputs": [
    {
     "name": "stdout",
     "output_type": "stream",
     "text": [
      "[1.27909480e-02 8.00618599e-02 2.05873354e-01 2.86329607e-01\n",
      " 2.38608006e-01 1.24691926e-01 4.15639753e-02 8.81660082e-03\n",
      " 1.16690305e-03 9.26113531e-05 4.11606014e-06 9.10185289e-08\n",
      " 7.98408148e-10 1.57476952e-12]\n",
      "\n",
      "0.008816600816408794\n"
     ]
    }
   ],
   "source": [
    "# initializing a distribution\n",
    "# parameters: M, n, N\n",
    "# M: size of the population (which is 52 in our example)\n",
    "# n: number of successes in population (which is 13 in our example since there are 13 spades)\n",
    "# N: sample size (which is 13 in our example since we are considering for a hand of 13 cards)\n",
    "\n",
    "rv = stats.hypergeom(52, 13, 13)\n",
    "x = np.arange(0, 13 + 1)  # we want to find out probabilities of getting 0 -> 13 spades in our hand\n",
    "pmf_spades = rv.pmf(x)  # creating a probability mass function for our X's \n",
    "\n",
    "print(pmf_spades)\n",
    "print()  # just adding space between outputs \n",
    "print(pmf_spades[6 + 1])  # probability of getting 6 spades (+1 because indexing starts at 0)"
   ]
  },
  {
   "cell_type": "markdown",
   "metadata": {},
   "source": [
    "__Example 4.6.1__ (Gambling and probabilities) Two dice are thrown 100 times and the number of nines is recorded. It is apparent that we are examining each roll of the two dice for the events nine or non-nine. The probability of obtaining a nine by throwing two dice is 4/36 = 1/9, that is, p = 1/9. Find the probability that x number of nines occur, where x = 0, 1, 2, ..., 6"
   ]
  },
  {
   "cell_type": "code",
   "execution_count": 21,
   "metadata": {},
   "outputs": [
    {
     "data": {
      "text/plain": [
       "array([7.76561932e-06, 9.69610511e-05, 5.99271648e-04, 2.44427334e-03,\n",
       "       7.40086924e-03, 1.77421063e-02, 3.50750865e-02])"
      ]
     },
     "execution_count": 21,
     "metadata": {},
     "output_type": "execute_result"
    }
   ],
   "source": [
    "# Binomial Distribution\n",
    "# parameters: k, n, p\n",
    "# k: number of successes \n",
    "# n: size of sample\n",
    "# p: probability of success \n",
    "\n",
    "pmf_dices = stats.binom.pmf(np.arange(0, 6 + 1), 100, 0.111)  # probability mass function of getting 0 -> 6 9's when rolling 2 dice 100 times\n",
    "pmf_dices"
   ]
  },
  {
   "cell_type": "markdown",
   "metadata": {},
   "source": [
    "__Example 4.8.3__ A manufacturing company of car parts found that one of its machines randomly produces\n",
    "some defective parts. Further the company determined that X, the number of defective parts it produces\n",
    "in each shift, is distributed by the Poisson distribution with mean λ = 3. Find using Python the probability\n",
    "that it will produce x number of defective parts in the next two shifts, where x = 0, 1, 2, ..., 10"
   ]
  },
  {
   "cell_type": "code",
   "execution_count": 22,
   "metadata": {},
   "outputs": [
    {
     "data": {
      "text/plain": [
       "array([0.04978707, 0.14936121, 0.22404181, 0.22404181, 0.16803136,\n",
       "       0.10081881, 0.05040941, 0.02160403, 0.00810151, 0.0027005 ,\n",
       "       0.00081015])"
      ]
     },
     "execution_count": 22,
     "metadata": {},
     "output_type": "execute_result"
    }
   ],
   "source": [
    "# Poisson Distribution\n",
    "# parameters: k, mu\n",
    "# k: number of \"successes\" or in our example, number of defective parts in the next two shifts \n",
    "# mu: or lambda, or mean, which is 3 in our example\n",
    "\n",
    "pmf_defects = stats.poisson.pmf(np.arange(0, 10 + 1), 3)  # probability mass function of finding 0 -> 10 number of defective parts\n",
    "pmf_defects"
   ]
  },
  {
   "cell_type": "markdown",
   "metadata": {},
   "source": [
    "__Example 4.9.1__ (Negative binomial probabilities) Two dice are thrown and the sum of the dots obtained\n",
    "on the uppermost faces are recorded. What is the probability that a 7 occurs for the third time on the\n",
    "x th throw where (x ≥ 3)?"
   ]
  },
  {
   "cell_type": "code",
   "execution_count": 23,
   "metadata": {},
   "outputs": [
    {
     "data": {
      "text/plain": [
       "array([0.0268047 , 0.03350453, 0.03908706, 0.04342833, 0.04652849,\n",
       "       0.04846524, 0.04936077, 0.0493588 , 0.04860899, 0.04725685,\n",
       "       0.04543746, 0.04327204, 0.04086641, 0.03831072])"
      ]
     },
     "execution_count": 23,
     "metadata": {},
     "output_type": "execute_result"
    }
   ],
   "source": [
    "# Negative Binomial Distribution\n",
    "# parameters: k, n, p\n",
    "# k: number of 'failures', which is 3 or more in our example \n",
    "# n: number of 'successes', which is 3 in our example\n",
    "# p: probability of success in a single trial, which is 0.1667 in our example\n",
    "\n",
    "pmf_ndices = stats.nbinom.pmf(np.arange(3, 16 + 1), 3, 0.1667)  # pmf that 7 occurring for the 3rd time on the xth throw, where 3<=x<=16\n",
    "pmf_ndices"
   ]
  }
 ],
 "metadata": {
  "kernelspec": {
   "display_name": "Python 3",
   "language": "python",
   "name": "python3"
  },
  "language_info": {
   "codemirror_mode": {
    "name": "ipython",
    "version": 3
   },
   "file_extension": ".py",
   "mimetype": "text/x-python",
   "name": "python",
   "nbconvert_exporter": "python",
   "pygments_lexer": "ipython3",
   "version": "3.7.4"
  }
 },
 "nbformat": 4,
 "nbformat_minor": 4
}
