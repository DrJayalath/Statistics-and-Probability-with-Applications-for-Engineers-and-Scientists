{
 "cells": [
  {
   "cell_type": "markdown",
   "metadata": {},
   "source": [
    "## Importing Libraries"
   ]
  },
  {
   "cell_type": "code",
   "execution_count": 63,
   "metadata": {},
   "outputs": [],
   "source": [
    "import numpy as np\n",
    "import scipy\n",
    "from scipy import stats\n",
    "import matplotlib.pyplot as plt"
   ]
  },
  {
   "cell_type": "markdown",
   "metadata": {},
   "source": [
    "__Example 5.4.3__ (Uniform Distribution) A random variable X is the time taken by an engineer to develop\n",
    "a design of a new product. Here, the time taken by the engineer is anywhere between five to ten months,\n",
    "so that the random variable X is uniformly distributed over the interval [5, 10]. Find the probability\n",
    "P(6 ≤ X ≤ 8)."
   ]
  },
  {
   "cell_type": "code",
   "execution_count": 64,
   "metadata": {},
   "outputs": [
    {
     "data": {
      "text/plain": [
       "0.39999999999999997"
      ]
     },
     "execution_count": 64,
     "metadata": {},
     "output_type": "execute_result"
    }
   ],
   "source": [
    "# Uniform Cumulative Density Function\n",
    "# parameters: quantile, loc = start of interval, scale = additive factor to loc\n",
    "# A uniform cumulative density function is evaluated from the interval: [loc, loc + scale]\n",
    "\n",
    "stats.uniform.cdf(8, loc=5, scale=5) - stats.uniform.cdf(6, loc=5, scale=5)"
   ]
  },
  {
   "cell_type": "markdown",
   "metadata": {},
   "source": [
    "__Example 5.5.4__ A random variable X is distributed as normal with mean µ = 6 and standard deviation\n",
    "σ = 4. Determine the probability P(8.0 ≤ X ≤ 14.0)."
   ]
  },
  {
   "cell_type": "code",
   "execution_count": 65,
   "metadata": {},
   "outputs": [
    {
     "data": {
      "text/plain": [
       "0.2857874067778077"
      ]
     },
     "execution_count": 65,
     "metadata": {},
     "output_type": "execute_result"
    }
   ],
   "source": [
    "# Normal Distribution \n",
    "# parameters: quantile(s), loc = mean of distribution, scale = standard deviation of distribution\n",
    "\n",
    "stats.norm.cdf(14, loc=6, scale=4) - stats.norm.cdf(8, loc=6, scale=4)"
   ]
  },
  {
   "cell_type": "markdown",
   "metadata": {},
   "source": [
    "__Example 5.8.1__ (A Graphical Test of Normality) The data below are the systolic blood pressures of sixteen\n",
    "randomly selected breast cancer patients in a large metropolitan hospital. Using normal probability paper,\n",
    "we want to verify if these data can reasonably be regarded as having come from a normal population.\n",
    "\n",
    "`\n",
    "134, 138, 133, 125, 128, 123, 130, 134, 114, 136, 124, 146, 147, 119, 133, 135`"
   ]
  },
  {
   "cell_type": "code",
   "execution_count": 66,
   "metadata": {},
   "outputs": [
    {
     "data": {
      "image/png": "[encoded data removed]",
      "text/plain": [
       "<Figure size 432x288 with 1 Axes>"
      ]
     },
     "metadata": {
      "needs_background": "light"
     },
     "output_type": "display_data"
    }
   ],
   "source": [
    "x = [134, 138, 133, 125, 128, 123, 130, 134, 114, 136, 124, 146, 147, 119, 133, 135]\n",
    "\n",
    "scipy.stats.probplot(x, plot=plt)\n",
    "plt.title(\"Systolic Blood Pressure of 16 Cancer Patients\", fontsize=14, fontweight='bold')\n",
    "plt.show()"
   ]
  },
  {
   "cell_type": "markdown",
   "metadata": {},
   "source": [
    "__Example 5.9.1__ (Mean and variance of lognormal random variable) The random variable X denotes the\n",
    "lifetime of an active ingredient in a drug that is modeled by the lognormal distribution with µ = 1.20 yr\n",
    "and σ^2 = 0.10 (yr)^2\n",
    ". Find the mean and the standard deviation of the lifetime of the active ingredient.\n",
    "Find the following P(3 ≤ X ≤ 5)."
   ]
  },
  {
   "cell_type": "code",
   "execution_count": 67,
   "metadata": {},
   "outputs": [
    {
     "data": {
      "text/plain": [
       "0.5282956776416569"
      ]
     },
     "execution_count": 67,
     "metadata": {},
     "output_type": "execute_result"
    }
   ],
   "source": [
    "# Lognormal Distribution\n",
    "# parameters for cumulative function: x, s=sigma, scale=exp(mean)\n",
    "\n",
    "stats.lognorm.cdf(5, 0.316, scale=np.exp(1.2)) - stats.lognorm.cdf(3, 0.316, scale=np.exp(1.2)) "
   ]
  },
  {
   "cell_type": "markdown",
   "metadata": {},
   "source": [
    "__Example 5.9.4__ Let X be a random variable distributed as an exponential distribution with λ = 2 or\n",
    "mean value equal to 0.5, which is the scale parameter. Find P(3.0 ≤ X ≤ 5.0)."
   ]
  },
  {
   "cell_type": "code",
   "execution_count": 68,
   "metadata": {},
   "outputs": [
    {
     "data": {
      "text/plain": [
       "0.002433352246903886"
      ]
     },
     "execution_count": 68,
     "metadata": {},
     "output_type": "execute_result"
    }
   ],
   "source": [
    "# Exponential Distribution\n",
    "# parameters for cumulative function: x=quantile, scale=sigma or stdev\n",
    "\n",
    "stats.expon.cdf(5, scale=0.5) - stats.expon.cdf(3, scale=0.5)"
   ]
  },
  {
   "cell_type": "markdown",
   "metadata": {},
   "source": [
    "__Example 5.9.6__ The lead time (in days) for orders by company A of a certain part from a manufacturer\n",
    "is modeled by a gamma distribution with shape parameter γ = 9 and scale parameter 1/λ = 4. Using Python,\n",
    "find the probability that the lead time for an order is less than or equal to 45 day"
   ]
  },
  {
   "cell_type": "code",
   "execution_count": 69,
   "metadata": {},
   "outputs": [
    {
     "data": {
      "text/plain": [
       "0.7894590565394028"
      ]
     },
     "execution_count": 69,
     "metadata": {},
     "output_type": "execute_result"
    }
   ],
   "source": [
    "# Gamma Distribution\n",
    "# parameters for cumulative function: x=quantile, a=shape, scale\n",
    "\n",
    "stats.gamma.cdf(x=45, a=9, scale=4)"
   ]
  },
  {
   "cell_type": "markdown",
   "metadata": {},
   "source": [
    "__Example 5.9.8__ From a data set on a system, the parameters of a Weibull distribution are estimated to\n",
    "be ˆα = 4 and βˆ = 0.5; here time T is measured in thousands of hours. Find the probability P(T ≤ 10)."
   ]
  },
  {
   "cell_type": "code",
   "execution_count": 70,
   "metadata": {},
   "outputs": [
    {
     "data": {
      "text/plain": [
       "0.7942593389161856"
      ]
     },
     "execution_count": 70,
     "metadata": {},
     "output_type": "execute_result"
    }
   ],
   "source": [
    "# Weibull Distribution\n",
    "# parameters for cumulative function: x=quantile, c=shape, scale\n",
    "\n",
    "stats.weibull_min.cdf(10, c=0.5, scale=4)"
   ]
  }
 ],
 "metadata": {
  "kernelspec": {
   "display_name": "Python 3",
   "language": "python",
   "name": "python3"
  },
  "language_info": {
   "codemirror_mode": {
    "name": "ipython",
    "version": 3
   },
   "file_extension": ".py",
   "mimetype": "text/x-python",
   "name": "python",
   "nbconvert_exporter": "python",
   "pygments_lexer": "ipython3",
   "version": "3.7.4"
  }
 },
 "nbformat": 4,
 "nbformat_minor": 4
}
