{
 "cells": [
  {
   "cell_type": "markdown",
   "metadata": {},
   "source": [
    "### Installing a new library"
   ]
  },
  {
   "cell_type": "code",
   "execution_count": null,
   "metadata": {},
   "outputs": [],
   "source": [
    "import sys\n",
    "\n",
    "!{sys.executable} -m pip install stemgraphic"
   ]
  },
  {
   "cell_type": "markdown",
   "metadata": {},
   "source": [
    "## Importing Necessary Libraries"
   ]
  },
  {
   "cell_type": "code",
   "execution_count": 25,
   "metadata": {},
   "outputs": [],
   "source": [
    "import numpy as np\n",
    "import scipy\n",
    "from scipy import stats\n",
    "import matplotlib\n",
    "import matplotlib.pyplot as plt\n",
    "import pandas as pd\n",
    "from collections import Counter\n",
    "import stemgraphic"
   ]
  },
  {
   "cell_type": "markdown",
   "metadata": {},
   "source": [
    "## Versions of all packages used"
   ]
  },
  {
   "cell_type": "code",
   "execution_count": 26,
   "metadata": {},
   "outputs": [
    {
     "name": "stdout",
     "output_type": "stream",
     "text": [
      "1.18.4\n",
      "1.6.3\n",
      "3.2.1\n",
      "1.0.3\n"
     ]
    }
   ],
   "source": [
    "print(np.__version__)\n",
    "print(scipy.__version__)\n",
    "print(matplotlib.__version__)\n",
    "print(pd.__version__)"
   ]
  },
  {
   "cell_type": "markdown",
   "metadata": {},
   "source": [
    "#### Example 2.3.1 (Industrial revenue) Consider a random sample of 110 small to mid-size companies located in the midwestern region of the United States, and classify them according to their annual revenues (in millions of dollars). Then construct a frequency distribution table for the data obtained by this classification"
   ]
  },
  {
   "cell_type": "markdown",
   "metadata": {},
   "source": [
    "##### Assign given data to the variable data"
   ]
  },
  {
   "cell_type": "code",
   "execution_count": 27,
   "metadata": {},
   "outputs": [],
   "source": [
    "data = [4,3,5,3,4,1,2,3,4,3,1,5,3,4,2,1,1,4,5,3,2,5,2,5,2,1,2,3,3,2,1,5,3,2,1,1,2,1,2,4,5,3,5,1,3,1,2,1,4,1,\n",
    "4,5,4,1,1,2,4,1,4,1,2,4,3,4,1,4,1,4,1,2,1,5,3,1,5,2,1,2,3,1,2,2,1,1,2,1,5,3,2,5,5,2,5,3,5,2,3,2,3,5,2,3,5,5,2,\n",
    "3,2,5,1,4]"
   ]
  },
  {
   "cell_type": "markdown",
   "metadata": {},
   "source": [
    "##### To get frequencies"
   ]
  },
  {
   "cell_type": "code",
   "execution_count": 28,
   "metadata": {},
   "outputs": [
    {
     "data": {
      "text/plain": [
       "Counter({4: 16, 3: 20, 5: 20, 1: 28, 2: 26})"
      ]
     },
     "execution_count": 28,
     "metadata": {},
     "output_type": "execute_result"
    }
   ],
   "source": [
    "frequencies = Counter(data)\n",
    "frequencies"
   ]
  },
  {
   "cell_type": "code",
   "execution_count": 29,
   "metadata": {},
   "outputs": [
    {
     "data": {
      "text/html": [
       "<div>\n",
       "<style scoped>\n",
       "    .dataframe tbody tr th:only-of-type {\n",
       "        vertical-align: middle;\n",
       "    }\n",
       "\n",
       "    .dataframe tbody tr th {\n",
       "        vertical-align: top;\n",
       "    }\n",
       "\n",
       "    .dataframe thead th {\n",
       "        text-align: right;\n",
       "    }\n",
       "</style>\n",
       "<table border=\"1\" class=\"dataframe\">\n",
       "  <thead>\n",
       "    <tr style=\"text-align: right;\">\n",
       "      <th></th>\n",
       "      <th>Frequency</th>\n",
       "    </tr>\n",
       "  </thead>\n",
       "  <tbody>\n",
       "    <tr>\n",
       "      <th>1</th>\n",
       "      <td>28</td>\n",
       "    </tr>\n",
       "    <tr>\n",
       "      <th>2</th>\n",
       "      <td>26</td>\n",
       "    </tr>\n",
       "    <tr>\n",
       "      <th>3</th>\n",
       "      <td>20</td>\n",
       "    </tr>\n",
       "    <tr>\n",
       "      <th>4</th>\n",
       "      <td>16</td>\n",
       "    </tr>\n",
       "    <tr>\n",
       "      <th>5</th>\n",
       "      <td>20</td>\n",
       "    </tr>\n",
       "  </tbody>\n",
       "</table>\n",
       "</div>"
      ],
      "text/plain": [
       "   Frequency\n",
       "1         28\n",
       "2         26\n",
       "3         20\n",
       "4         16\n",
       "5         20"
      ]
     },
     "execution_count": 29,
     "metadata": {},
     "output_type": "execute_result"
    }
   ],
   "source": [
    "frequency_df = pd.Series(frequencies).sort_index()  # make a series that is sorted by indices (which represent the numbers 1-5)\n",
    "frequency_df = pd.DataFrame(frequency_df, columns=['Frequency'])  # transform the series into a dataframe/table so we can relabel columns\n",
    "frequency_df"
   ]
  },
  {
   "cell_type": "code",
   "execution_count": 30,
   "metadata": {},
   "outputs": [
    {
     "data": {
      "text/html": [
       "<div>\n",
       "<style scoped>\n",
       "    .dataframe tbody tr th:only-of-type {\n",
       "        vertical-align: middle;\n",
       "    }\n",
       "\n",
       "    .dataframe tbody tr th {\n",
       "        vertical-align: top;\n",
       "    }\n",
       "\n",
       "    .dataframe thead th {\n",
       "        text-align: right;\n",
       "    }\n",
       "</style>\n",
       "<table border=\"1\" class=\"dataframe\">\n",
       "  <thead>\n",
       "    <tr style=\"text-align: right;\">\n",
       "      <th></th>\n",
       "      <th>Frequency</th>\n",
       "      <th>Cum.Frequency</th>\n",
       "    </tr>\n",
       "  </thead>\n",
       "  <tbody>\n",
       "    <tr>\n",
       "      <th>1</th>\n",
       "      <td>28</td>\n",
       "      <td>28</td>\n",
       "    </tr>\n",
       "    <tr>\n",
       "      <th>2</th>\n",
       "      <td>26</td>\n",
       "      <td>54</td>\n",
       "    </tr>\n",
       "    <tr>\n",
       "      <th>3</th>\n",
       "      <td>20</td>\n",
       "      <td>74</td>\n",
       "    </tr>\n",
       "    <tr>\n",
       "      <th>4</th>\n",
       "      <td>16</td>\n",
       "      <td>90</td>\n",
       "    </tr>\n",
       "    <tr>\n",
       "      <th>5</th>\n",
       "      <td>20</td>\n",
       "      <td>110</td>\n",
       "    </tr>\n",
       "  </tbody>\n",
       "</table>\n",
       "</div>"
      ],
      "text/plain": [
       "   Frequency  Cum.Frequency\n",
       "1         28             28\n",
       "2         26             54\n",
       "3         20             74\n",
       "4         16             90\n",
       "5         20            110"
      ]
     },
     "execution_count": 30,
     "metadata": {},
     "output_type": "execute_result"
    }
   ],
   "source": [
    "frequency_df['Cum.Frequency'] = np.cumsum(frequency_df['Frequency'])  # adding a cumulative frequency column \n",
    "frequency_df"
   ]
  },
  {
   "cell_type": "code",
   "execution_count": 31,
   "metadata": {},
   "outputs": [
    {
     "data": {
      "text/html": [
       "<div>\n",
       "<style scoped>\n",
       "    .dataframe tbody tr th:only-of-type {\n",
       "        vertical-align: middle;\n",
       "    }\n",
       "\n",
       "    .dataframe tbody tr th {\n",
       "        vertical-align: top;\n",
       "    }\n",
       "\n",
       "    .dataframe thead th {\n",
       "        text-align: right;\n",
       "    }\n",
       "</style>\n",
       "<table border=\"1\" class=\"dataframe\">\n",
       "  <thead>\n",
       "    <tr style=\"text-align: right;\">\n",
       "      <th></th>\n",
       "      <th>Frequency</th>\n",
       "      <th>Cum.Frequency</th>\n",
       "      <th>Cum Percentage</th>\n",
       "    </tr>\n",
       "  </thead>\n",
       "  <tbody>\n",
       "    <tr>\n",
       "      <th>1</th>\n",
       "      <td>28</td>\n",
       "      <td>28</td>\n",
       "      <td>25.454545</td>\n",
       "    </tr>\n",
       "    <tr>\n",
       "      <th>2</th>\n",
       "      <td>26</td>\n",
       "      <td>54</td>\n",
       "      <td>49.090909</td>\n",
       "    </tr>\n",
       "    <tr>\n",
       "      <th>3</th>\n",
       "      <td>20</td>\n",
       "      <td>74</td>\n",
       "      <td>67.272727</td>\n",
       "    </tr>\n",
       "    <tr>\n",
       "      <th>4</th>\n",
       "      <td>16</td>\n",
       "      <td>90</td>\n",
       "      <td>81.818182</td>\n",
       "    </tr>\n",
       "    <tr>\n",
       "      <th>5</th>\n",
       "      <td>20</td>\n",
       "      <td>110</td>\n",
       "      <td>100.000000</td>\n",
       "    </tr>\n",
       "  </tbody>\n",
       "</table>\n",
       "</div>"
      ],
      "text/plain": [
       "   Frequency  Cum.Frequency  Cum Percentage\n",
       "1         28             28       25.454545\n",
       "2         26             54       49.090909\n",
       "3         20             74       67.272727\n",
       "4         16             90       81.818182\n",
       "5         20            110      100.000000"
      ]
     },
     "execution_count": 31,
     "metadata": {},
     "output_type": "execute_result"
    }
   ],
   "source": [
    "# adding a cumulative percentages column\n",
    "frequency_df['Cum Percentage'] = frequency_df['Cum.Frequency'] * 100 / frequency_df['Frequency'].sum()\n",
    "frequency_df"
   ]
  },
  {
   "cell_type": "markdown",
   "metadata": {},
   "source": [
    "#### Example 2.3.4 (Rod manufacturing) The following data give the lengths (in millimeters) of 40 randomly selected rods manufactured by a company:\n",
    "\n",
    "`\n",
    "145 140 120 110 135 150 130 132 137 115\n",
    "142 115 130 124 139 133 118 127 144 143\n",
    "131 120 117 129 148 130 121 136 133 147\n",
    "147 128 142 147 152 122 120 145 126 151\n",
    " `\n",
    "\n",
    "#### Prepare a frequency distribution table for these data."
   ]
  },
  {
   "cell_type": "markdown",
   "metadata": {},
   "source": [
    "##### Assign given data to the variable RodData"
   ]
  },
  {
   "cell_type": "code",
   "execution_count": 32,
   "metadata": {},
   "outputs": [],
   "source": [
    "RodData = [145,140,120,110,135,150,130,132,137,115,142,115,130,124,139,133,118,127,144,\n",
    "143,131,120,117,129,148,130,121,136,133,147,147,128,142,147,152,122,120,145,126,151]"
   ]
  },
  {
   "cell_type": "markdown",
   "metadata": {},
   "source": [
    "##### To define the intervals"
   ]
  },
  {
   "cell_type": "code",
   "execution_count": 33,
   "metadata": {},
   "outputs": [
    {
     "data": {
      "text/plain": [
       "IntervalIndex([[110, 117), [117, 124), [124, 131), [131, 138), [138, 145), [145, 152)],\n",
       "              closed='left',\n",
       "              dtype='interval[int64]')"
      ]
     },
     "execution_count": 33,
     "metadata": {},
     "output_type": "execute_result"
    }
   ],
   "source": [
    "breaks = pd.interval_range(start=110, end=152, periods=6, closed='left')  # period indicates how many intervals you want\n",
    "breaks"
   ]
  },
  {
   "cell_type": "markdown",
   "metadata": {},
   "source": [
    "##### To obtain the frequency of data in each class"
   ]
  },
  {
   "cell_type": "code",
   "execution_count": 34,
   "metadata": {},
   "outputs": [
    {
     "data": {
      "text/html": [
       "<div>\n",
       "<style scoped>\n",
       "    .dataframe tbody tr th:only-of-type {\n",
       "        vertical-align: middle;\n",
       "    }\n",
       "\n",
       "    .dataframe tbody tr th {\n",
       "        vertical-align: top;\n",
       "    }\n",
       "\n",
       "    .dataframe thead th {\n",
       "        text-align: right;\n",
       "    }\n",
       "</style>\n",
       "<table border=\"1\" class=\"dataframe\">\n",
       "  <thead>\n",
       "    <tr style=\"text-align: right;\">\n",
       "      <th></th>\n",
       "      <th>Frequency</th>\n",
       "    </tr>\n",
       "  </thead>\n",
       "  <tbody>\n",
       "    <tr>\n",
       "      <th>[110, 117)</th>\n",
       "      <td>3</td>\n",
       "    </tr>\n",
       "    <tr>\n",
       "      <th>[117, 124)</th>\n",
       "      <td>7</td>\n",
       "    </tr>\n",
       "    <tr>\n",
       "      <th>[124, 131)</th>\n",
       "      <td>8</td>\n",
       "    </tr>\n",
       "    <tr>\n",
       "      <th>[131, 138)</th>\n",
       "      <td>7</td>\n",
       "    </tr>\n",
       "    <tr>\n",
       "      <th>[138, 145)</th>\n",
       "      <td>6</td>\n",
       "    </tr>\n",
       "    <tr>\n",
       "      <th>[145, 152)</th>\n",
       "      <td>8</td>\n",
       "    </tr>\n",
       "  </tbody>\n",
       "</table>\n",
       "</div>"
      ],
      "text/plain": [
       "            Frequency\n",
       "[110, 117)          3\n",
       "[117, 124)          7\n",
       "[124, 131)          8\n",
       "[131, 138)          7\n",
       "[138, 145)          6\n",
       "[145, 152)          8"
      ]
     },
     "execution_count": 34,
     "metadata": {},
     "output_type": "execute_result"
    }
   ],
   "source": [
    "rod_data = pd.DataFrame(data=RodData, columns=['Frequency'])\n",
    "rod_data = rod_data.groupby(pd.cut(RodData, bins=breaks)).count()\n",
    "rod_data"
   ]
  },
  {
   "cell_type": "markdown",
   "metadata": {},
   "source": [
    "##### To combine necessary columns"
   ]
  },
  {
   "cell_type": "code",
   "execution_count": 35,
   "metadata": {},
   "outputs": [
    {
     "data": {
      "text/html": [
       "<div>\n",
       "<style scoped>\n",
       "    .dataframe tbody tr th:only-of-type {\n",
       "        vertical-align: middle;\n",
       "    }\n",
       "\n",
       "    .dataframe tbody tr th {\n",
       "        vertical-align: top;\n",
       "    }\n",
       "\n",
       "    .dataframe thead th {\n",
       "        text-align: right;\n",
       "    }\n",
       "</style>\n",
       "<table border=\"1\" class=\"dataframe\">\n",
       "  <thead>\n",
       "    <tr style=\"text-align: right;\">\n",
       "      <th></th>\n",
       "      <th>Frequency</th>\n",
       "      <th>Percentage</th>\n",
       "    </tr>\n",
       "  </thead>\n",
       "  <tbody>\n",
       "    <tr>\n",
       "      <th>[110, 117)</th>\n",
       "      <td>3</td>\n",
       "      <td>7.692308</td>\n",
       "    </tr>\n",
       "    <tr>\n",
       "      <th>[117, 124)</th>\n",
       "      <td>7</td>\n",
       "      <td>17.948718</td>\n",
       "    </tr>\n",
       "    <tr>\n",
       "      <th>[124, 131)</th>\n",
       "      <td>8</td>\n",
       "      <td>20.512821</td>\n",
       "    </tr>\n",
       "    <tr>\n",
       "      <th>[131, 138)</th>\n",
       "      <td>7</td>\n",
       "      <td>17.948718</td>\n",
       "    </tr>\n",
       "    <tr>\n",
       "      <th>[138, 145)</th>\n",
       "      <td>6</td>\n",
       "      <td>15.384615</td>\n",
       "    </tr>\n",
       "    <tr>\n",
       "      <th>[145, 152)</th>\n",
       "      <td>8</td>\n",
       "      <td>20.512821</td>\n",
       "    </tr>\n",
       "  </tbody>\n",
       "</table>\n",
       "</div>"
      ],
      "text/plain": [
       "            Frequency  Percentage\n",
       "[110, 117)          3    7.692308\n",
       "[117, 124)          7   17.948718\n",
       "[124, 131)          8   20.512821\n",
       "[131, 138)          7   17.948718\n",
       "[138, 145)          6   15.384615\n",
       "[145, 152)          8   20.512821"
      ]
     },
     "execution_count": 35,
     "metadata": {},
     "output_type": "execute_result"
    }
   ],
   "source": [
    "rod_data['Percentage'] = 100 * rod_data['Frequency'] / rod_data['Frequency'].sum()\n",
    "rod_data"
   ]
  },
  {
   "cell_type": "code",
   "execution_count": 36,
   "metadata": {},
   "outputs": [
    {
     "data": {
      "text/html": [
       "<div>\n",
       "<style scoped>\n",
       "    .dataframe tbody tr th:only-of-type {\n",
       "        vertical-align: middle;\n",
       "    }\n",
       "\n",
       "    .dataframe tbody tr th {\n",
       "        vertical-align: top;\n",
       "    }\n",
       "\n",
       "    .dataframe thead th {\n",
       "        text-align: right;\n",
       "    }\n",
       "</style>\n",
       "<table border=\"1\" class=\"dataframe\">\n",
       "  <thead>\n",
       "    <tr style=\"text-align: right;\">\n",
       "      <th></th>\n",
       "      <th>Frequency</th>\n",
       "      <th>Percentage</th>\n",
       "      <th>Cum.Frequency</th>\n",
       "    </tr>\n",
       "  </thead>\n",
       "  <tbody>\n",
       "    <tr>\n",
       "      <th>[110, 117)</th>\n",
       "      <td>3</td>\n",
       "      <td>7.692308</td>\n",
       "      <td>3</td>\n",
       "    </tr>\n",
       "    <tr>\n",
       "      <th>[117, 124)</th>\n",
       "      <td>7</td>\n",
       "      <td>17.948718</td>\n",
       "      <td>10</td>\n",
       "    </tr>\n",
       "    <tr>\n",
       "      <th>[124, 131)</th>\n",
       "      <td>8</td>\n",
       "      <td>20.512821</td>\n",
       "      <td>18</td>\n",
       "    </tr>\n",
       "    <tr>\n",
       "      <th>[131, 138)</th>\n",
       "      <td>7</td>\n",
       "      <td>17.948718</td>\n",
       "      <td>25</td>\n",
       "    </tr>\n",
       "    <tr>\n",
       "      <th>[138, 145)</th>\n",
       "      <td>6</td>\n",
       "      <td>15.384615</td>\n",
       "      <td>31</td>\n",
       "    </tr>\n",
       "    <tr>\n",
       "      <th>[145, 152)</th>\n",
       "      <td>8</td>\n",
       "      <td>20.512821</td>\n",
       "      <td>39</td>\n",
       "    </tr>\n",
       "  </tbody>\n",
       "</table>\n",
       "</div>"
      ],
      "text/plain": [
       "            Frequency  Percentage  Cum.Frequency\n",
       "[110, 117)          3    7.692308              3\n",
       "[117, 124)          7   17.948718             10\n",
       "[124, 131)          8   20.512821             18\n",
       "[131, 138)          7   17.948718             25\n",
       "[138, 145)          6   15.384615             31\n",
       "[145, 152)          8   20.512821             39"
      ]
     },
     "execution_count": 36,
     "metadata": {},
     "output_type": "execute_result"
    }
   ],
   "source": [
    "rod_data['Cum.Frequency'] = np.cumsum(rod_data['Frequency'])\n",
    "rod_data"
   ]
  },
  {
   "cell_type": "code",
   "execution_count": 37,
   "metadata": {},
   "outputs": [
    {
     "data": {
      "text/html": [
       "<div>\n",
       "<style scoped>\n",
       "    .dataframe tbody tr th:only-of-type {\n",
       "        vertical-align: middle;\n",
       "    }\n",
       "\n",
       "    .dataframe tbody tr th {\n",
       "        vertical-align: top;\n",
       "    }\n",
       "\n",
       "    .dataframe thead th {\n",
       "        text-align: right;\n",
       "    }\n",
       "</style>\n",
       "<table border=\"1\" class=\"dataframe\">\n",
       "  <thead>\n",
       "    <tr style=\"text-align: right;\">\n",
       "      <th></th>\n",
       "      <th>Frequency</th>\n",
       "      <th>Percentage</th>\n",
       "      <th>Cum.Frequency</th>\n",
       "      <th>Cum.Percentage</th>\n",
       "    </tr>\n",
       "  </thead>\n",
       "  <tbody>\n",
       "    <tr>\n",
       "      <th>[110, 117)</th>\n",
       "      <td>3</td>\n",
       "      <td>7.692308</td>\n",
       "      <td>3</td>\n",
       "      <td>7.692308</td>\n",
       "    </tr>\n",
       "    <tr>\n",
       "      <th>[117, 124)</th>\n",
       "      <td>7</td>\n",
       "      <td>17.948718</td>\n",
       "      <td>10</td>\n",
       "      <td>25.641026</td>\n",
       "    </tr>\n",
       "    <tr>\n",
       "      <th>[124, 131)</th>\n",
       "      <td>8</td>\n",
       "      <td>20.512821</td>\n",
       "      <td>18</td>\n",
       "      <td>46.153846</td>\n",
       "    </tr>\n",
       "    <tr>\n",
       "      <th>[131, 138)</th>\n",
       "      <td>7</td>\n",
       "      <td>17.948718</td>\n",
       "      <td>25</td>\n",
       "      <td>64.102564</td>\n",
       "    </tr>\n",
       "    <tr>\n",
       "      <th>[138, 145)</th>\n",
       "      <td>6</td>\n",
       "      <td>15.384615</td>\n",
       "      <td>31</td>\n",
       "      <td>79.487179</td>\n",
       "    </tr>\n",
       "    <tr>\n",
       "      <th>[145, 152)</th>\n",
       "      <td>8</td>\n",
       "      <td>20.512821</td>\n",
       "      <td>39</td>\n",
       "      <td>100.000000</td>\n",
       "    </tr>\n",
       "  </tbody>\n",
       "</table>\n",
       "</div>"
      ],
      "text/plain": [
       "            Frequency  Percentage  Cum.Frequency  Cum.Percentage\n",
       "[110, 117)          3    7.692308              3        7.692308\n",
       "[117, 124)          7   17.948718             10       25.641026\n",
       "[124, 131)          8   20.512821             18       46.153846\n",
       "[131, 138)          7   17.948718             25       64.102564\n",
       "[138, 145)          6   15.384615             31       79.487179\n",
       "[145, 152)          8   20.512821             39      100.000000"
      ]
     },
     "execution_count": 37,
     "metadata": {},
     "output_type": "execute_result"
    }
   ],
   "source": [
    "rod_data['Cum.Percentage'] = rod_data['Cum.Frequency'] * 100 / rod_data['Frequency'].sum()\n",
    "rod_data"
   ]
  },
  {
   "cell_type": "markdown",
   "metadata": {},
   "source": [
    "#### Example 2.4.2 (Manufacturing defect types) In a manufacturing operation we are interested in understanding defect rates as a function of various process steps. The inspection points (categories) in the process are initial cutoff, turning, drilling, and assembly. The frequency distribution table for these data is shown in Table 2.4.1. Construct a pie chart for these data."
   ]
  },
  {
   "cell_type": "code",
   "execution_count": 38,
   "metadata": {},
   "outputs": [],
   "source": [
    "Freq = np.array([86, 182, 83, 10])\n",
    "Percents = np.round(100 * Freq / Freq.sum(), 1)  # to calculate percentages\n",
    "\n",
    "# labels that will go on the pie chart\n",
    "labels = ['Initial cutoff', 'Turning', 'Drilling', 'Assembly']  # same order as Frequencies"
   ]
  },
  {
   "cell_type": "markdown",
   "metadata": {},
   "source": [
    "##### Creating the Pie Chart"
   ]
  },
  {
   "cell_type": "code",
   "execution_count": 39,
   "metadata": {},
   "outputs": [
    {
     "data": {
      "image/png": "[encoded data removed]",
      "text/plain": [
       "<Figure size 432x288 with 1 Axes>"
      ]
     },
     "metadata": {},
     "output_type": "display_data"
    }
   ],
   "source": [
    "plt.pie(x=Freq, labels=labels)\n",
    "plt.show()"
   ]
  },
  {
   "cell_type": "markdown",
   "metadata": {},
   "source": [
    "#### Example 2.4.4 (Auto part defect types) A company that manufactures auto parts is interested in studying the types of defects in parts produced at a particular plant. The following data shows the types of defects that occurred over a certain period:\n",
    "\n",
    "`\n",
    "2 1 3 1 2 1 5 4 3 1 2 3 4 3 1 5 2 3 1 2 3 5 4 3 1\n",
    "5 1 4 2 3 2 1 2 5 4 2 4 2 5 1 2 1 2 1 5 2 1 3 1 4\n",
    "`\n",
    "#### Construct a bar chart for the types of defects found in the auto parts."
   ]
  },
  {
   "cell_type": "code",
   "execution_count": 40,
   "metadata": {},
   "outputs": [],
   "source": [
    "DefectTypes = [2,1,3,1,2,1,5,4,3,1,2,3,4,3,1,5,2,3,1,2,3,5,4,3,1,5,1,4,2,3,2,1,2,5,4,2,4,2,5,\n",
    "1,2,1,2,1,5,2,1,3,1,4]"
   ]
  },
  {
   "cell_type": "code",
   "execution_count": 41,
   "metadata": {},
   "outputs": [
    {
     "data": {
      "text/plain": [
       "Counter({2: 13, 1: 14, 3: 9, 5: 7, 4: 7})"
      ]
     },
     "execution_count": 41,
     "metadata": {},
     "output_type": "execute_result"
    }
   ],
   "source": [
    "# To obtain the frequencies\n",
    "counts = Counter(DefectTypes)  # notice how the Defect Type is the 'key' while the Frequency is the corresponding 'value'\n",
    "counts"
   ]
  },
  {
   "cell_type": "code",
   "execution_count": 42,
   "metadata": {},
   "outputs": [
    {
     "data": {
      "image/png": "[encoded data removed]",
      "text/plain": [
       "<Figure size 432x288 with 1 Axes>"
      ]
     },
     "metadata": {
      "needs_background": "light"
     },
     "output_type": "display_data"
    }
   ],
   "source": [
    "# To obtain the bar chart\n",
    "plt.bar(x=counts.keys(), height=counts.values())\n",
    "plt.xlabel(\"Defect Type\", fontsize=14, fontweight='bold')\n",
    "plt.ylabel(\"Frequency\", fontsize=14, fontweight='bold')\n",
    "plt.show()"
   ]
  },
  {
   "cell_type": "markdown",
   "metadata": {},
   "source": [
    "#### Example 2.4.5 (Survival times) The following data give the survival times (in hours) of 50 parts involved in a field test under extraneous operating conditions.\n",
    "`\n",
    "60 100 130 100 115 30 60 145 75 80 89 57 64 92 87 110 180\n",
    "195 175 179 159 155 146 157 167 174 87 67 73 109 123 135 129 141\n",
    "154 166 179 37 49 68 74 89 87 109 119 125 56 39 49 190\n",
    "`\n",
    "#### Construct a frequency and cumulative histograms for these data."
   ]
  },
  {
   "cell_type": "code",
   "execution_count": 43,
   "metadata": {},
   "outputs": [],
   "source": [
    "SurvTime = [60,100,130,100,115,30,60,145,75,80,89,57,64,92,87,110,180,195,175,179,159,155,\n",
    "146,157,167,174,87,67,73,109,123,135,129,141,154,166,179,37,49,68,74,89,87,109,119,125,56,39,49,190]"
   ]
  },
  {
   "cell_type": "code",
   "execution_count": 44,
   "metadata": {},
   "outputs": [
    {
     "data": {
      "image/png": "[encoded data removed]",
      "text/plain": [
       "<Figure size 432x288 with 1 Axes>"
      ]
     },
     "metadata": {
      "needs_background": "light"
     },
     "output_type": "display_data"
    }
   ],
   "source": [
    "# To plot the histogram\n",
    "plt.hist(SurvTime, bins=np.arange(30, 199, 24))\n",
    "plt.title('Histogram of Survival Time', fontsize=18, fontweight='bold')\n",
    "plt.xlabel('Survival Time', fontsize=14, fontweight='bold')\n",
    "plt.ylabel('Frequency', fontsize=14, fontweight='bold')\n",
    "plt.show()"
   ]
  },
  {
   "cell_type": "code",
   "execution_count": 45,
   "metadata": {},
   "outputs": [
    {
     "data": {
      "image/png": "[encoded data removed]",
      "text/plain": [
       "<Figure size 432x288 with 1 Axes>"
      ]
     },
     "metadata": {
      "needs_background": "light"
     },
     "output_type": "display_data"
    }
   ],
   "source": [
    "# To plot the cumulative histogram\n",
    "plt.hist(SurvTime, bins=np.arange(30, 199, 24), cumulative=True)\n",
    "plt.title('Cumulative Histogram', fontsize=18, fontweight='bold')\n",
    "plt.xlabel('Survival Time', fontsize=14, fontweight='bold')\n",
    "plt.ylabel('Cumulative Frequency', fontsize=14, fontweight='bold')\n",
    "plt.show()"
   ]
  },
  {
   "cell_type": "markdown",
   "metadata": {},
   "source": [
    "#### Example 2.4.7 (Spare parts supply) A manufacturing company has been awarded a huge contract by the Defense Department to supply spare parts. In order to provide these parts on schedule, the company needs to hire a large number of new workers. To estimate how many workers to hire, representatives of the Human Resources Department decided to take a random sample of 80 workers and find the number of parts each worker produces per week. The data collected is given in Table 2.1. Prepare a stem-and-leaf diagram for these data:\n",
    "\n",
    "`\n",
    "73 70 68 79 84 85 77 75 61 69 74 80 83 82 86 87 78 81 68 71\n",
    "74 73 69 68 87 85 86 87 89 90 92 71 93 67 66 65 68 73 72 83\n",
    "76 74 89 86 91 92 65 64 62 67 63 69 73 69 71 76 77 84 83 85\n",
    "81 87 93 92 81 80 70 63 65 62 69 74 76 83 85 91 89 90 85 82\n",
    "`"
   ]
  },
  {
   "cell_type": "code",
   "execution_count": 46,
   "metadata": {},
   "outputs": [],
   "source": [
    "SpareParts = [73,70,68,79,84,85,77,75,61,69,74,80,83,82,86,87,78,81,68,71,74,73,69,68,87,85,86,87,89,\n",
    "90,92,71,93,67,66,65,68,73,72,83,76,74,89,86,91,92,65,64,62,67,63,69,73,69,71,76,77,84,83,85,81,87,\n",
    "93,92,81,80,70,63,65,62,69,74,76,83,85,91,89,90,85,82]"
   ]
  },
  {
   "cell_type": "markdown",
   "metadata": {},
   "source": [
    "##### Showing a Stem & Leaf plot"
   ]
  },
  {
   "cell_type": "code",
   "execution_count": 55,
   "metadata": {},
   "outputs": [
    {
     "data": {
      "image/png": "[encoded data removed]",
      "text/plain": [
       "<Figure size 540x126 with 1 Axes>"
      ]
     },
     "metadata": {
      "needs_background": "light"
     },
     "output_type": "display_data"
    }
   ],
   "source": [
    "stemgraphic.stem_graphic(SpareParts, scale=10)\n",
    "plt.show()"
   ]
  },
  {
   "cell_type": "markdown",
   "metadata": {},
   "source": [
    "#### Example 2.5.14 Calculate numerical measures for the following sample data:\n",
    "`\n",
    "6, 8, 12, 9, 14, 18, 17, 23, 21, 23\n",
    "`"
   ]
  },
  {
   "cell_type": "code",
   "execution_count": 60,
   "metadata": {},
   "outputs": [
    {
     "data": {
      "text/plain": [
       "count    10.000000\n",
       "mean     15.100000\n",
       "std       6.261878\n",
       "min       6.000000\n",
       "25%       9.750000\n",
       "50%      15.500000\n",
       "75%      20.250000\n",
       "max      23.000000\n",
       "dtype: float64"
      ]
     },
     "execution_count": 60,
     "metadata": {},
     "output_type": "execute_result"
    }
   ],
   "source": [
    "data = pd.Series([6, 8, 12, 9, 14, 18, 17, 23, 21, 23])\n",
    "data.describe()"
   ]
  },
  {
   "cell_type": "code",
   "execution_count": 83,
   "metadata": {},
   "outputs": [
    {
     "data": {
      "text/plain": [
       "15.1"
      ]
     },
     "execution_count": 83,
     "metadata": {},
     "output_type": "execute_result"
    }
   ],
   "source": [
    "# To obtain the mean\n",
    "data.mean()"
   ]
  },
  {
   "cell_type": "code",
   "execution_count": 64,
   "metadata": {},
   "outputs": [
    {
     "data": {
      "text/plain": [
       "15.5"
      ]
     },
     "execution_count": 64,
     "metadata": {},
     "output_type": "execute_result"
    }
   ],
   "source": [
    "# To obtain the median\n",
    "data.median()"
   ]
  },
  {
   "cell_type": "code",
   "execution_count": 65,
   "metadata": {},
   "outputs": [
    {
     "data": {
      "text/plain": [
       "6.261877602693231"
      ]
     },
     "execution_count": 65,
     "metadata": {},
     "output_type": "execute_result"
    }
   ],
   "source": [
    "# To obtain the standard deviation\n",
    "data.std()"
   ]
  },
  {
   "cell_type": "code",
   "execution_count": 67,
   "metadata": {},
   "outputs": [
    {
     "data": {
      "text/plain": [
       "39.211111111111116"
      ]
     },
     "execution_count": 67,
     "metadata": {},
     "output_type": "execute_result"
    }
   ],
   "source": [
    "# To obtain the variance\n",
    "data.var()"
   ]
  },
  {
   "cell_type": "code",
   "execution_count": 70,
   "metadata": {},
   "outputs": [
    {
     "data": {
      "text/plain": [
       "0    23\n",
       "dtype: int64"
      ]
     },
     "execution_count": 70,
     "metadata": {},
     "output_type": "execute_result"
    }
   ],
   "source": [
    "# To obtain the mode\n",
    "data.mode()  # the answer is 23"
   ]
  },
  {
   "cell_type": "markdown",
   "metadata": {},
   "source": [
    "#### (Bus riders) The following data gives the number of persons who take a bus during the off-peak time schedule (3 pm-4 pm.) from Grand Central to Lower Manhattan in New York City. Using technology, find the numerical measures for these data:\n",
    "`\n",
    "17 12 12 14 15 16 16 16 16 17 17 18 18 18 19 19 20 20 20 20\n",
    "20 20 20 20 21 21 21 22 22 23 23 23 24 24 25 26 26 28 28 28\n",
    "`"
   ]
  },
  {
   "cell_type": "code",
   "execution_count": 72,
   "metadata": {},
   "outputs": [],
   "source": [
    "x = pd.Series([17,12,12,14,15,16,16,16,16,17,17,18,18,18,19,19,20,20,20,20,20,20,20,20,21,21,21,22,22,23,23,23,\n",
    "24,24,25,26,26,28,28,28])"
   ]
  },
  {
   "cell_type": "code",
   "execution_count": 76,
   "metadata": {},
   "outputs": [
    {
     "data": {
      "text/plain": [
       "array([20.125     ,  4.08993449, 16.7275641 , 20.32265583])"
      ]
     },
     "execution_count": 76,
     "metadata": {},
     "output_type": "execute_result"
    }
   ],
   "source": [
    "# To add the resulting mean, standard deviation, variance, and coefficient of variation into an array:\n",
    "np.array([x.mean(), x.std(), x.var(), 100*x.std()/x.mean()])"
   ]
  },
  {
   "cell_type": "code",
   "execution_count": 85,
   "metadata": {},
   "outputs": [
    {
     "data": {
      "text/plain": [
       "min    12.0\n",
       "25%    17.0\n",
       "50%    20.0\n",
       "75%    23.0\n",
       "max    28.0\n",
       "dtype: float64"
      ]
     },
     "execution_count": 85,
     "metadata": {},
     "output_type": "execute_result"
    }
   ],
   "source": [
    "# To obtain quartiles including min and max\n",
    "x.describe()[3:]  # the \"[3:]\" will show a part of a bigger result which gets shown when x.describe() itself is called"
   ]
  },
  {
   "cell_type": "code",
   "execution_count": 86,
   "metadata": {},
   "outputs": [
    {
     "data": {
      "text/plain": [
       "16"
      ]
     },
     "execution_count": 86,
     "metadata": {},
     "output_type": "execute_result"
    }
   ],
   "source": [
    "# To obtain the range we find Max-Min\n",
    "x.max() - x.min()"
   ]
  },
  {
   "cell_type": "code",
   "execution_count": 88,
   "metadata": {},
   "outputs": [],
   "source": [
    "NoiseLevels = [75,79,80,85,88,89,95,96,97,99,104,105,110,115,140]"
   ]
  },
  {
   "cell_type": "code",
   "execution_count": 94,
   "metadata": {},
   "outputs": [
    {
     "data": {
      "image/png": "[encoded data removed]",
      "text/plain": [
       "<Figure size 432x288 with 1 Axes>"
      ]
     },
     "metadata": {
      "needs_background": "light"
     },
     "output_type": "display_data"
    }
   ],
   "source": [
    "# To plot boxplot\n",
    "plt.boxplot(x=NoiseLevels)\n",
    "plt.xticks([])\n",
    "plt.show()"
   ]
  },
  {
   "cell_type": "markdown",
   "metadata": {},
   "source": [
    "#### Example 2.9.1 (Cholesterol level and systolic blood pressure) The cholesterol level and the systolic blood pressure of 10 randomly selected US males in the age group 40 to 50 years are given in Table 2.9.1 (see Text). Construct a scatter plot of this data and determine if there is any association between the cholesterol levels and systolic blood pressures."
   ]
  },
  {
   "cell_type": "code",
   "execution_count": 95,
   "metadata": {},
   "outputs": [],
   "source": [
    "x = [195,180,220,160,200,220,200,183,139,155]\n",
    "y = [130,128,138,122,140,148,142,127,116,123]"
   ]
  },
  {
   "cell_type": "code",
   "execution_count": 106,
   "metadata": {},
   "outputs": [
    {
     "data": {
      "image/png": "[encoded data removed]",
      "text/plain": [
       "<Figure size 432x288 with 1 Axes>"
      ]
     },
     "metadata": {
      "needs_background": "light"
     },
     "output_type": "display_data"
    }
   ],
   "source": [
    "# To plot the data in a scatter plot\n",
    "plt.scatter(x, y)\n",
    "pfit = np.polyfit(x, y, 1)  # fitting a linear line through the points\n",
    "line = np.poly1d(pfit)  # this is a function which will output a 'y' on the trendline for a given 'x'\n",
    "plt.plot(x, line(x), 'r-')  # the 'r-' just means draw a red line\n",
    "plt.title(\"Scatterplot for Cholesterol Level and Systolic Blood Pressure Data\", fontsize=14, fontweight='bold')\n",
    "plt.xlabel(\"Cholestrol Level\", fontsize=14)\n",
    "plt.ylabel(\"Systolic Blood Pressure\", fontsize=14)\n",
    "plt.show()"
   ]
  },
  {
   "cell_type": "code",
   "execution_count": 110,
   "metadata": {},
   "outputs": [
    {
     "data": {
      "text/plain": [
       "0.9242063197487278"
      ]
     },
     "execution_count": 110,
     "metadata": {},
     "output_type": "execute_result"
    }
   ],
   "source": [
    "# To calculate the Pearson correlation coefficient\n",
    "np.corrcoef(x, y)[0, 1]"
   ]
  }
 ],
 "metadata": {
  "kernelspec": {
   "display_name": "Python 3",
   "language": "python",
   "name": "python3"
  },
  "language_info": {
   "codemirror_mode": {
    "name": "ipython",
    "version": 3
   },
   "file_extension": ".py",
   "mimetype": "text/x-python",
   "name": "python",
   "nbconvert_exporter": "python",
   "pygments_lexer": "ipython3",
   "version": "3.7.4"
  }
 },
 "nbformat": 4,
 "nbformat_minor": 4
}
